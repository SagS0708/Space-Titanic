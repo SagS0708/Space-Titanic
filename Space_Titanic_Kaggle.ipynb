{
  "nbformat": 4,
  "nbformat_minor": 0,
  "metadata": {
    "colab": {
      "name": "Space Titanic Kaggle.ipynb",
      "provenance": [],
      "collapsed_sections": []
    },
    "kernelspec": {
      "name": "python3",
      "display_name": "Python 3"
    },
    "language_info": {
      "name": "python"
    },
    "gpuClass": "standard"
  },
  "cells": [
    {
      "cell_type": "markdown",
      "source": [
        "# **Read Data**"
      ],
      "metadata": {
        "id": "asrSMsyPPY9L"
      }
    },
    {
      "cell_type": "code",
      "source": [
        "a1=pd.read_csv(\"/content/drive/MyDrive/Colab Notebooks/Space Titanic/train.csv\")"
      ],
      "metadata": {
        "id": "7opub9SqPOLM"
      },
      "execution_count": null,
      "outputs": []
    },
    {
      "cell_type": "code",
      "source": [
        "a1.head(3)"
      ],
      "metadata": {
        "colab": {
          "base_uri": "https://localhost:8080/",
          "height": 143
        },
        "id": "UFa-AkeNQq46",
        "outputId": "302f7f9a-15df-4d99-a292-d496e7f299c7"
      },
      "execution_count": null,
      "outputs": [
        {
          "output_type": "execute_result",
          "data": {
            "text/plain": [
              "  PassengerId HomePlanet CryoSleep  Cabin  Destination   Age    VIP  \\\n",
              "0     0001_01     Europa     False  B/0/P  TRAPPIST-1e  39.0  False   \n",
              "1     0002_01      Earth     False  F/0/S  TRAPPIST-1e  24.0  False   \n",
              "2     0003_01     Europa     False  A/0/S  TRAPPIST-1e  58.0   True   \n",
              "\n",
              "   RoomService  FoodCourt  ShoppingMall     Spa  VRDeck             Name  \\\n",
              "0          0.0        0.0           0.0     0.0     0.0  Maham Ofracculy   \n",
              "1        109.0        9.0          25.0   549.0    44.0     Juanna Vines   \n",
              "2         43.0     3576.0           0.0  6715.0    49.0    Altark Susent   \n",
              "\n",
              "   Transported  \n",
              "0        False  \n",
              "1         True  \n",
              "2        False  "
            ],
            "text/html": [
              "\n",
              "  <div id=\"df-a8b430d0-d0fe-4e6c-a71f-4e3636bc1c27\">\n",
              "    <div class=\"colab-df-container\">\n",
              "      <div>\n",
              "<style scoped>\n",
              "    .dataframe tbody tr th:only-of-type {\n",
              "        vertical-align: middle;\n",
              "    }\n",
              "\n",
              "    .dataframe tbody tr th {\n",
              "        vertical-align: top;\n",
              "    }\n",
              "\n",
              "    .dataframe thead th {\n",
              "        text-align: right;\n",
              "    }\n",
              "</style>\n",
              "<table border=\"1\" class=\"dataframe\">\n",
              "  <thead>\n",
              "    <tr style=\"text-align: right;\">\n",
              "      <th></th>\n",
              "      <th>PassengerId</th>\n",
              "      <th>HomePlanet</th>\n",
              "      <th>CryoSleep</th>\n",
              "      <th>Cabin</th>\n",
              "      <th>Destination</th>\n",
              "      <th>Age</th>\n",
              "      <th>VIP</th>\n",
              "      <th>RoomService</th>\n",
              "      <th>FoodCourt</th>\n",
              "      <th>ShoppingMall</th>\n",
              "      <th>Spa</th>\n",
              "      <th>VRDeck</th>\n",
              "      <th>Name</th>\n",
              "      <th>Transported</th>\n",
              "    </tr>\n",
              "  </thead>\n",
              "  <tbody>\n",
              "    <tr>\n",
              "      <th>0</th>\n",
              "      <td>0001_01</td>\n",
              "      <td>Europa</td>\n",
              "      <td>False</td>\n",
              "      <td>B/0/P</td>\n",
              "      <td>TRAPPIST-1e</td>\n",
              "      <td>39.0</td>\n",
              "      <td>False</td>\n",
              "      <td>0.0</td>\n",
              "      <td>0.0</td>\n",
              "      <td>0.0</td>\n",
              "      <td>0.0</td>\n",
              "      <td>0.0</td>\n",
              "      <td>Maham Ofracculy</td>\n",
              "      <td>False</td>\n",
              "    </tr>\n",
              "    <tr>\n",
              "      <th>1</th>\n",
              "      <td>0002_01</td>\n",
              "      <td>Earth</td>\n",
              "      <td>False</td>\n",
              "      <td>F/0/S</td>\n",
              "      <td>TRAPPIST-1e</td>\n",
              "      <td>24.0</td>\n",
              "      <td>False</td>\n",
              "      <td>109.0</td>\n",
              "      <td>9.0</td>\n",
              "      <td>25.0</td>\n",
              "      <td>549.0</td>\n",
              "      <td>44.0</td>\n",
              "      <td>Juanna Vines</td>\n",
              "      <td>True</td>\n",
              "    </tr>\n",
              "    <tr>\n",
              "      <th>2</th>\n",
              "      <td>0003_01</td>\n",
              "      <td>Europa</td>\n",
              "      <td>False</td>\n",
              "      <td>A/0/S</td>\n",
              "      <td>TRAPPIST-1e</td>\n",
              "      <td>58.0</td>\n",
              "      <td>True</td>\n",
              "      <td>43.0</td>\n",
              "      <td>3576.0</td>\n",
              "      <td>0.0</td>\n",
              "      <td>6715.0</td>\n",
              "      <td>49.0</td>\n",
              "      <td>Altark Susent</td>\n",
              "      <td>False</td>\n",
              "    </tr>\n",
              "  </tbody>\n",
              "</table>\n",
              "</div>\n",
              "      <button class=\"colab-df-convert\" onclick=\"convertToInteractive('df-a8b430d0-d0fe-4e6c-a71f-4e3636bc1c27')\"\n",
              "              title=\"Convert this dataframe to an interactive table.\"\n",
              "              style=\"display:none;\">\n",
              "        \n",
              "  <svg xmlns=\"http://www.w3.org/2000/svg\" height=\"24px\"viewBox=\"0 0 24 24\"\n",
              "       width=\"24px\">\n",
              "    <path d=\"M0 0h24v24H0V0z\" fill=\"none\"/>\n",
              "    <path d=\"M18.56 5.44l.94 2.06.94-2.06 2.06-.94-2.06-.94-.94-2.06-.94 2.06-2.06.94zm-11 1L8.5 8.5l.94-2.06 2.06-.94-2.06-.94L8.5 2.5l-.94 2.06-2.06.94zm10 10l.94 2.06.94-2.06 2.06-.94-2.06-.94-.94-2.06-.94 2.06-2.06.94z\"/><path d=\"M17.41 7.96l-1.37-1.37c-.4-.4-.92-.59-1.43-.59-.52 0-1.04.2-1.43.59L10.3 9.45l-7.72 7.72c-.78.78-.78 2.05 0 2.83L4 21.41c.39.39.9.59 1.41.59.51 0 1.02-.2 1.41-.59l7.78-7.78 2.81-2.81c.8-.78.8-2.07 0-2.86zM5.41 20L4 18.59l7.72-7.72 1.47 1.35L5.41 20z\"/>\n",
              "  </svg>\n",
              "      </button>\n",
              "      \n",
              "  <style>\n",
              "    .colab-df-container {\n",
              "      display:flex;\n",
              "      flex-wrap:wrap;\n",
              "      gap: 12px;\n",
              "    }\n",
              "\n",
              "    .colab-df-convert {\n",
              "      background-color: #E8F0FE;\n",
              "      border: none;\n",
              "      border-radius: 50%;\n",
              "      cursor: pointer;\n",
              "      display: none;\n",
              "      fill: #1967D2;\n",
              "      height: 32px;\n",
              "      padding: 0 0 0 0;\n",
              "      width: 32px;\n",
              "    }\n",
              "\n",
              "    .colab-df-convert:hover {\n",
              "      background-color: #E2EBFA;\n",
              "      box-shadow: 0px 1px 2px rgba(60, 64, 67, 0.3), 0px 1px 3px 1px rgba(60, 64, 67, 0.15);\n",
              "      fill: #174EA6;\n",
              "    }\n",
              "\n",
              "    [theme=dark] .colab-df-convert {\n",
              "      background-color: #3B4455;\n",
              "      fill: #D2E3FC;\n",
              "    }\n",
              "\n",
              "    [theme=dark] .colab-df-convert:hover {\n",
              "      background-color: #434B5C;\n",
              "      box-shadow: 0px 1px 3px 1px rgba(0, 0, 0, 0.15);\n",
              "      filter: drop-shadow(0px 1px 2px rgba(0, 0, 0, 0.3));\n",
              "      fill: #FFFFFF;\n",
              "    }\n",
              "  </style>\n",
              "\n",
              "      <script>\n",
              "        const buttonEl =\n",
              "          document.querySelector('#df-a8b430d0-d0fe-4e6c-a71f-4e3636bc1c27 button.colab-df-convert');\n",
              "        buttonEl.style.display =\n",
              "          google.colab.kernel.accessAllowed ? 'block' : 'none';\n",
              "\n",
              "        async function convertToInteractive(key) {\n",
              "          const element = document.querySelector('#df-a8b430d0-d0fe-4e6c-a71f-4e3636bc1c27');\n",
              "          const dataTable =\n",
              "            await google.colab.kernel.invokeFunction('convertToInteractive',\n",
              "                                                     [key], {});\n",
              "          if (!dataTable) return;\n",
              "\n",
              "          const docLinkHtml = 'Like what you see? Visit the ' +\n",
              "            '<a target=\"_blank\" href=https://colab.research.google.com/notebooks/data_table.ipynb>data table notebook</a>'\n",
              "            + ' to learn more about interactive tables.';\n",
              "          element.innerHTML = '';\n",
              "          dataTable['output_type'] = 'display_data';\n",
              "          await google.colab.output.renderOutput(dataTable, element);\n",
              "          const docLink = document.createElement('div');\n",
              "          docLink.innerHTML = docLinkHtml;\n",
              "          element.appendChild(docLink);\n",
              "        }\n",
              "      </script>\n",
              "    </div>\n",
              "  </div>\n",
              "  "
            ]
          },
          "metadata": {},
          "execution_count": 5
        }
      ]
    },
    {
      "cell_type": "code",
      "source": [
        "a1.shape"
      ],
      "metadata": {
        "colab": {
          "base_uri": "https://localhost:8080/"
        },
        "id": "-724thNwQu11",
        "outputId": "41bba393-2896-43b4-9530-a9392e87cf59"
      },
      "execution_count": null,
      "outputs": [
        {
          "output_type": "execute_result",
          "data": {
            "text/plain": [
              "(8693, 14)"
            ]
          },
          "metadata": {},
          "execution_count": 6
        }
      ]
    },
    {
      "cell_type": "code",
      "source": [
        "a1.nunique()"
      ],
      "metadata": {
        "colab": {
          "base_uri": "https://localhost:8080/"
        },
        "id": "Jom56QU2QycV",
        "outputId": "b0bdfeac-363b-4bc5-a9c6-38decd26162c"
      },
      "execution_count": null,
      "outputs": [
        {
          "output_type": "execute_result",
          "data": {
            "text/plain": [
              "PassengerId     8693\n",
              "HomePlanet         3\n",
              "CryoSleep          2\n",
              "Cabin           6560\n",
              "Destination        3\n",
              "Age               80\n",
              "VIP                2\n",
              "RoomService     1273\n",
              "FoodCourt       1507\n",
              "ShoppingMall    1115\n",
              "Spa             1327\n",
              "VRDeck          1306\n",
              "Name            8473\n",
              "Transported        2\n",
              "dtype: int64"
            ]
          },
          "metadata": {},
          "execution_count": 7
        }
      ]
    },
    {
      "cell_type": "code",
      "source": [
        "a1.info()"
      ],
      "metadata": {
        "colab": {
          "base_uri": "https://localhost:8080/"
        },
        "id": "xDPMXjbgQ2TF",
        "outputId": "ed3a9f51-aa2e-4f57-a966-abdd9cb2eb29"
      },
      "execution_count": null,
      "outputs": [
        {
          "output_type": "stream",
          "name": "stdout",
          "text": [
            "<class 'pandas.core.frame.DataFrame'>\n",
            "RangeIndex: 8693 entries, 0 to 8692\n",
            "Data columns (total 14 columns):\n",
            " #   Column        Non-Null Count  Dtype  \n",
            "---  ------        --------------  -----  \n",
            " 0   PassengerId   8693 non-null   object \n",
            " 1   HomePlanet    8492 non-null   object \n",
            " 2   CryoSleep     8476 non-null   object \n",
            " 3   Cabin         8494 non-null   object \n",
            " 4   Destination   8511 non-null   object \n",
            " 5   Age           8514 non-null   float64\n",
            " 6   VIP           8490 non-null   object \n",
            " 7   RoomService   8512 non-null   float64\n",
            " 8   FoodCourt     8510 non-null   float64\n",
            " 9   ShoppingMall  8485 non-null   float64\n",
            " 10  Spa           8510 non-null   float64\n",
            " 11  VRDeck        8505 non-null   float64\n",
            " 12  Name          8493 non-null   object \n",
            " 13  Transported   8693 non-null   bool   \n",
            "dtypes: bool(1), float64(6), object(7)\n",
            "memory usage: 891.5+ KB\n"
          ]
        }
      ]
    },
    {
      "cell_type": "code",
      "source": [
        "a1[\"CryoSleep\"]=a1[\"CryoSleep\"].astype(str)"
      ],
      "metadata": {
        "id": "X1W9rljkewur"
      },
      "execution_count": null,
      "outputs": []
    },
    {
      "cell_type": "markdown",
      "source": [
        "# **Missing Data Treatment**"
      ],
      "metadata": {
        "id": "Z5Z_aIFGRRMF"
      }
    },
    {
      "cell_type": "code",
      "source": [
        "a1.isna().sum()"
      ],
      "metadata": {
        "colab": {
          "base_uri": "https://localhost:8080/"
        },
        "id": "Kl1CEjfXQ7Mo",
        "outputId": "9c2bbf1f-8e9e-4dd5-ccd9-e4a0868c0c0f"
      },
      "execution_count": null,
      "outputs": [
        {
          "output_type": "execute_result",
          "data": {
            "text/plain": [
              "PassengerId       0\n",
              "HomePlanet      201\n",
              "CryoSleep         0\n",
              "Cabin           199\n",
              "Destination     182\n",
              "Age             179\n",
              "VIP             203\n",
              "RoomService     181\n",
              "FoodCourt       183\n",
              "ShoppingMall    208\n",
              "Spa             183\n",
              "VRDeck          188\n",
              "Name            200\n",
              "Transported       0\n",
              "dtype: int64"
            ]
          },
          "metadata": {},
          "execution_count": 10
        }
      ]
    },
    {
      "cell_type": "code",
      "source": [
        "a1[\"Name\"]=a1[\"Name\"].fillna(\"Undisclosed\")"
      ],
      "metadata": {
        "id": "FvrifFsgR5UP"
      },
      "execution_count": null,
      "outputs": []
    },
    {
      "cell_type": "code",
      "source": [
        "def replacer(df):\n",
        "  for i in df.columns:\n",
        "    if df[i].dtypes==\"object\":\n",
        "      x=list(df[i].mode())[0]\n",
        "      df[i]=df[i].fillna(x)\n",
        "    else:\n",
        "      x=df[i].mean()\n",
        "      df[i]=df[i].fillna(x)\n",
        "  return df.isna().sum()"
      ],
      "metadata": {
        "colab": {
          "base_uri": "https://localhost:8080/"
        },
        "id": "ogYh7DvPTLCZ",
        "outputId": "98e28bf5-05b2-4101-b1b8-ac10f9c1e149"
      },
      "execution_count": null,
      "outputs": [
        {
          "output_type": "execute_result",
          "data": {
            "text/plain": [
              "PassengerId     0\n",
              "HomePlanet      0\n",
              "CryoSleep       0\n",
              "Cabin           0\n",
              "Destination     0\n",
              "Age             0\n",
              "VIP             0\n",
              "RoomService     0\n",
              "FoodCourt       0\n",
              "ShoppingMall    0\n",
              "Spa             0\n",
              "VRDeck          0\n",
              "Name            0\n",
              "Transported     0\n",
              "dtype: int64"
            ]
          },
          "metadata": {},
          "execution_count": 12
        }
      ]
    },
    {
      "cell_type": "code",
      "source": [
        "replacer(a1)"
      ],
      "metadata": {
        "id": "PZGNS1CvYgYE"
      },
      "execution_count": null,
      "outputs": []
    },
    {
      "cell_type": "markdown",
      "source": [
        "# **Outlier Analysis**"
      ],
      "metadata": {
        "id": "29khCoRITkdj"
      }
    },
    {
      "cell_type": "code",
      "source": [
        "def outlier_analysis(df):\n",
        "  cat=[]\n",
        "  con=[]\n",
        "  for i in df.columns:\n",
        "    if df[i].dtypes==\"object\":\n",
        "      cat.append(i)\n",
        "    else:\n",
        "      con.append(i)\n",
        "  \n",
        "  import pandas as pd\n",
        "  from sklearn.preprocessing import StandardScaler\n",
        "  ss=StandardScaler()\n",
        "  A1=pd.DataFrame(ss.fit_transform(df[con]),columns=con)\n",
        "  A2=pd.DataFrame(df[cat],columns=cat)\n",
        "\n",
        "  OUT=pd.DataFrame(A1[(A1>3)].sum().sort_values(),columns=[\"OUT_VAL\"])\n",
        "  return OUT"
      ],
      "metadata": {
        "colab": {
          "base_uri": "https://localhost:8080/",
          "height": 300
        },
        "id": "e31gWd6WTeJD",
        "outputId": "433df9d5-d6ad-45f6-8165-638187438734"
      },
      "execution_count": null,
      "outputs": [
        {
          "output_type": "execute_result",
          "data": {
            "text/plain": [
              "                  OUT_VAL\n",
              "Transported      0.000000\n",
              "Age             96.327240\n",
              "ShoppingMall   725.946591\n",
              "RoomService    912.430461\n",
              "FoodCourt      947.161216\n",
              "VRDeck         970.926634\n",
              "Spa            980.108266\n",
              "VIP           1300.117687"
            ],
            "text/html": [
              "\n",
              "  <div id=\"df-86dc7c80-cf82-4b16-8316-8a13ee57d75b\">\n",
              "    <div class=\"colab-df-container\">\n",
              "      <div>\n",
              "<style scoped>\n",
              "    .dataframe tbody tr th:only-of-type {\n",
              "        vertical-align: middle;\n",
              "    }\n",
              "\n",
              "    .dataframe tbody tr th {\n",
              "        vertical-align: top;\n",
              "    }\n",
              "\n",
              "    .dataframe thead th {\n",
              "        text-align: right;\n",
              "    }\n",
              "</style>\n",
              "<table border=\"1\" class=\"dataframe\">\n",
              "  <thead>\n",
              "    <tr style=\"text-align: right;\">\n",
              "      <th></th>\n",
              "      <th>OUT_VAL</th>\n",
              "    </tr>\n",
              "  </thead>\n",
              "  <tbody>\n",
              "    <tr>\n",
              "      <th>Transported</th>\n",
              "      <td>0.000000</td>\n",
              "    </tr>\n",
              "    <tr>\n",
              "      <th>Age</th>\n",
              "      <td>96.327240</td>\n",
              "    </tr>\n",
              "    <tr>\n",
              "      <th>ShoppingMall</th>\n",
              "      <td>725.946591</td>\n",
              "    </tr>\n",
              "    <tr>\n",
              "      <th>RoomService</th>\n",
              "      <td>912.430461</td>\n",
              "    </tr>\n",
              "    <tr>\n",
              "      <th>FoodCourt</th>\n",
              "      <td>947.161216</td>\n",
              "    </tr>\n",
              "    <tr>\n",
              "      <th>VRDeck</th>\n",
              "      <td>970.926634</td>\n",
              "    </tr>\n",
              "    <tr>\n",
              "      <th>Spa</th>\n",
              "      <td>980.108266</td>\n",
              "    </tr>\n",
              "    <tr>\n",
              "      <th>VIP</th>\n",
              "      <td>1300.117687</td>\n",
              "    </tr>\n",
              "  </tbody>\n",
              "</table>\n",
              "</div>\n",
              "      <button class=\"colab-df-convert\" onclick=\"convertToInteractive('df-86dc7c80-cf82-4b16-8316-8a13ee57d75b')\"\n",
              "              title=\"Convert this dataframe to an interactive table.\"\n",
              "              style=\"display:none;\">\n",
              "        \n",
              "  <svg xmlns=\"http://www.w3.org/2000/svg\" height=\"24px\"viewBox=\"0 0 24 24\"\n",
              "       width=\"24px\">\n",
              "    <path d=\"M0 0h24v24H0V0z\" fill=\"none\"/>\n",
              "    <path d=\"M18.56 5.44l.94 2.06.94-2.06 2.06-.94-2.06-.94-.94-2.06-.94 2.06-2.06.94zm-11 1L8.5 8.5l.94-2.06 2.06-.94-2.06-.94L8.5 2.5l-.94 2.06-2.06.94zm10 10l.94 2.06.94-2.06 2.06-.94-2.06-.94-.94-2.06-.94 2.06-2.06.94z\"/><path d=\"M17.41 7.96l-1.37-1.37c-.4-.4-.92-.59-1.43-.59-.52 0-1.04.2-1.43.59L10.3 9.45l-7.72 7.72c-.78.78-.78 2.05 0 2.83L4 21.41c.39.39.9.59 1.41.59.51 0 1.02-.2 1.41-.59l7.78-7.78 2.81-2.81c.8-.78.8-2.07 0-2.86zM5.41 20L4 18.59l7.72-7.72 1.47 1.35L5.41 20z\"/>\n",
              "  </svg>\n",
              "      </button>\n",
              "      \n",
              "  <style>\n",
              "    .colab-df-container {\n",
              "      display:flex;\n",
              "      flex-wrap:wrap;\n",
              "      gap: 12px;\n",
              "    }\n",
              "\n",
              "    .colab-df-convert {\n",
              "      background-color: #E8F0FE;\n",
              "      border: none;\n",
              "      border-radius: 50%;\n",
              "      cursor: pointer;\n",
              "      display: none;\n",
              "      fill: #1967D2;\n",
              "      height: 32px;\n",
              "      padding: 0 0 0 0;\n",
              "      width: 32px;\n",
              "    }\n",
              "\n",
              "    .colab-df-convert:hover {\n",
              "      background-color: #E2EBFA;\n",
              "      box-shadow: 0px 1px 2px rgba(60, 64, 67, 0.3), 0px 1px 3px 1px rgba(60, 64, 67, 0.15);\n",
              "      fill: #174EA6;\n",
              "    }\n",
              "\n",
              "    [theme=dark] .colab-df-convert {\n",
              "      background-color: #3B4455;\n",
              "      fill: #D2E3FC;\n",
              "    }\n",
              "\n",
              "    [theme=dark] .colab-df-convert:hover {\n",
              "      background-color: #434B5C;\n",
              "      box-shadow: 0px 1px 3px 1px rgba(0, 0, 0, 0.15);\n",
              "      filter: drop-shadow(0px 1px 2px rgba(0, 0, 0, 0.3));\n",
              "      fill: #FFFFFF;\n",
              "    }\n",
              "  </style>\n",
              "\n",
              "      <script>\n",
              "        const buttonEl =\n",
              "          document.querySelector('#df-86dc7c80-cf82-4b16-8316-8a13ee57d75b button.colab-df-convert');\n",
              "        buttonEl.style.display =\n",
              "          google.colab.kernel.accessAllowed ? 'block' : 'none';\n",
              "\n",
              "        async function convertToInteractive(key) {\n",
              "          const element = document.querySelector('#df-86dc7c80-cf82-4b16-8316-8a13ee57d75b');\n",
              "          const dataTable =\n",
              "            await google.colab.kernel.invokeFunction('convertToInteractive',\n",
              "                                                     [key], {});\n",
              "          if (!dataTable) return;\n",
              "\n",
              "          const docLinkHtml = 'Like what you see? Visit the ' +\n",
              "            '<a target=\"_blank\" href=https://colab.research.google.com/notebooks/data_table.ipynb>data table notebook</a>'\n",
              "            + ' to learn more about interactive tables.';\n",
              "          element.innerHTML = '';\n",
              "          dataTable['output_type'] = 'display_data';\n",
              "          await google.colab.output.renderOutput(dataTable, element);\n",
              "          const docLink = document.createElement('div');\n",
              "          docLink.innerHTML = docLinkHtml;\n",
              "          element.appendChild(docLink);\n",
              "        }\n",
              "      </script>\n",
              "    </div>\n",
              "  </div>\n",
              "  "
            ]
          },
          "metadata": {},
          "execution_count": 13
        }
      ]
    },
    {
      "cell_type": "code",
      "source": [
        "outlier_analysis(a1)"
      ],
      "metadata": {
        "id": "F5iRcyxoXSa_"
      },
      "execution_count": null,
      "outputs": []
    },
    {
      "cell_type": "markdown",
      "source": [
        "### **We need to eliminate Outliers from;**\n",
        "\n",
        "Age\t96.327240\n",
        "\n",
        "ShoppingMall\t725.946591\n",
        "\n",
        "RoomService\t912.430461\n",
        "\n",
        "FoodCourt\t947.161216\n",
        "\n",
        "VRDeck\t970.926634\n",
        "\n",
        "Spa\t980.108266\n",
        "\n",
        "VIP\t1300.117687"
      ],
      "metadata": {
        "id": "wyUcj4QQU2qo"
      }
    },
    {
      "cell_type": "markdown",
      "source": [
        "# **Eliminating Outliers**"
      ],
      "metadata": {
        "id": "POc9I_YUVGOD"
      }
    },
    {
      "cell_type": "code",
      "source": [
        "def outliers_rem(df):\n",
        "  cat=[]\n",
        "  con=[]\n",
        "  for i in df.columns:\n",
        "    if df[i].dtypes==\"object\":\n",
        "      cat.append(i)\n",
        "    else:\n",
        "      con.append(i)\n",
        "  \n",
        "  import pandas as pd\n",
        "  from sklearn.preprocessing import StandardScaler\n",
        "  ss=StandardScaler()\n",
        "  A1=pd.DataFrame(ss.fit_transform(df[con]),columns=con)\n",
        "  A2=pd.DataFrame(df[cat],columns=cat)\n",
        "\n",
        "  OUT=pd.DataFrame(A1[(A1>3)].sum().sort_values(),columns=[\"OUT_VAL\"])\n",
        "  OUT_Fea=list(OUT[OUT[\"OUT_VAL\"]>=2.9].index)\n",
        "\n",
        "  A=A1.join(A2)\n",
        "\n",
        "  for i in OUT_Fea:\n",
        "    A=A[(A[i]<3)&(A[i]>-3)]\n",
        "  \n",
        "  A3=pd.DataFrame(ss.inverse_transform(A[con]),columns=con)\n",
        "  A4=pd.DataFrame(A[cat],columns=cat)\n",
        "  a=A3.join(A4)\n",
        "  print(\"___________________________________________\")\n",
        "  print(\"Features with Outliers: \",OUT_Fea)\n",
        "  print(\"___________________________________________\")\n",
        "  return a"
      ],
      "metadata": {
        "id": "U7eN2R4SXOdz"
      },
      "execution_count": null,
      "outputs": []
    },
    {
      "cell_type": "code",
      "source": [
        "a=outliers_rem(a1)"
      ],
      "metadata": {
        "colab": {
          "base_uri": "https://localhost:8080/"
        },
        "id": "V9XvGklFUtIm",
        "outputId": "44f91084-7533-48b7-aab3-ea5414912854"
      },
      "execution_count": null,
      "outputs": [
        {
          "output_type": "stream",
          "name": "stdout",
          "text": [
            "___________________________________________\n",
            "Features with Outliers:  ['Age', 'ShoppingMall', 'RoomService', 'FoodCourt', 'VRDeck', 'Spa', 'VIP']\n",
            "___________________________________________\n"
          ]
        }
      ]
    },
    {
      "cell_type": "code",
      "source": [
        "a.shape"
      ],
      "metadata": {
        "colab": {
          "base_uri": "https://localhost:8080/"
        },
        "id": "QM-TLZaJVLMi",
        "outputId": "48a3b6fd-de60-4f1b-88ed-337fa41c552f"
      },
      "execution_count": null,
      "outputs": [
        {
          "output_type": "execute_result",
          "data": {
            "text/plain": [
              "(7798, 14)"
            ]
          },
          "metadata": {},
          "execution_count": 15
        }
      ]
    },
    {
      "cell_type": "code",
      "source": [
        "a.index=range(0,7798)"
      ],
      "metadata": {
        "id": "VpjGDNkki4Bw"
      },
      "execution_count": null,
      "outputs": []
    },
    {
      "cell_type": "code",
      "source": [
        "a1.shape"
      ],
      "metadata": {
        "colab": {
          "base_uri": "https://localhost:8080/"
        },
        "id": "T_3BtT1hVNSf",
        "outputId": "3dbd7e47-04e6-4c38-a495-ff5cb832f6fa"
      },
      "execution_count": null,
      "outputs": [
        {
          "output_type": "execute_result",
          "data": {
            "text/plain": [
              "(8693, 14)"
            ]
          },
          "metadata": {},
          "execution_count": 17
        }
      ]
    },
    {
      "cell_type": "markdown",
      "source": [
        "# **Univarite Analysis**"
      ],
      "metadata": {
        "id": "-x0ImR9IZxUX"
      }
    },
    {
      "cell_type": "code",
      "source": [
        "U=a.drop(labels=[\"PassengerId\",\"Cabin\",\"Name\"],axis=1)"
      ],
      "metadata": {
        "id": "ZT6mk7-pZz0i"
      },
      "execution_count": null,
      "outputs": []
    },
    {
      "cell_type": "code",
      "source": [
        "def UNI(df,fs):\n",
        "  def catcon(df):\n",
        "    cat=[]\n",
        "    con=[]\n",
        "    for i in df.columns:\n",
        "      if df[i].dtypes==\"object\":\n",
        "        cat.append(i)\n",
        "      else:\n",
        "        con.append(i)\n",
        "    return cat,con\n",
        "  cat,con=catcon(df)\n",
        "\n",
        "  import pandas as pd\n",
        "  import seaborn as sb\n",
        "  import matplotlib.pyplot as plt\n",
        "  plt.figure(figsize=fs)\n",
        "  cols=3\n",
        "  tot_rows=df.shape[1]\n",
        "  rows=tot_rows//cols\n",
        "\n",
        "  plt_no=1\n",
        "  for i in con:\n",
        "    plt.subplot(rows,cols,plt_no)\n",
        "    sb.distplot(df[i])\n",
        "    plt_no+=1\n",
        "  plt_no=1\n",
        "  for i in cat:\n",
        "    plt.subplot(rows,cols,plt_no)\n",
        "    q=sb.countplot(df[i])\n",
        "    q.set_xticklabels(q.get_xticklabels(),rotation=21,horizontalalignment=\"right\")\n",
        "    plt_no+=1"
      ],
      "metadata": {
        "id": "Jw8o5VbFXd9T"
      },
      "execution_count": null,
      "outputs": []
    },
    {
      "cell_type": "code",
      "source": [
        "UNI(U,(20,20))"
      ],
      "metadata": {
        "colab": {
          "base_uri": "https://localhost:8080/",
          "height": 1000
        },
        "id": "tPHZH31kZz3M",
        "outputId": "1b92f237-6b33-4806-aa10-227697f5e304"
      },
      "execution_count": null,
      "outputs": [
        {
          "output_type": "display_data",
          "data": {
            "text/plain": [
              "<Figure size 1440x1440 with 8 Axes>"
            ],
            "image/png": "[encoded data removed]"
          },
          "metadata": {
            "needs_background": "light"
          }
        }
      ]
    },
    {
      "cell_type": "markdown",
      "source": [
        "# **Bivariate Analysis w.r.t. Transported**"
      ],
      "metadata": {
        "id": "Qs1j-az7atO3"
      }
    },
    {
      "cell_type": "code",
      "source": [
        "def BIV_H(df,fs,con_col):\n",
        "  def catcon(df):\n",
        "    cat=[]\n",
        "    con=[]\n",
        "    for i in df.columns:\n",
        "      if df[i].dtypes==\"object\":\n",
        "        cat.append(i)\n",
        "      else:\n",
        "        con.append(i)\n",
        "    return cat,con\n",
        "  cat,con=catcon(df)\n",
        "\n",
        "  import pandas as pd\n",
        "  import seaborn as sb\n",
        "  import matplotlib.pyplot as plt\n",
        "  plt.figure(figsize=fs)\n",
        "  cols=3\n",
        "  tot_rows=df.shape[1]\n",
        "  rows=tot_rows//cols\n",
        "\n",
        "  plt_no=1\n",
        "  for i in con:\n",
        "    plt.subplot(rows,cols,plt_no)\n",
        "    sb.scatterplot(df[i],df[con_col])\n",
        "    plt_no+=1\n",
        "  plt_no=1\n",
        "  for i in cat:\n",
        "    plt.subplot(rows,cols,plt_no)\n",
        "    q=sb.boxplot(df[i],df[con_col])\n",
        "    q.set_xticklabels(q.get_xticklabels(),rotation=21,horizontalalignment=\"right\")\n",
        "    plt_no+=1"
      ],
      "metadata": {
        "id": "EXiaKpC2XgPO"
      },
      "execution_count": null,
      "outputs": []
    },
    {
      "cell_type": "code",
      "source": [
        "BIV_H(U,(20,15),\"Transported\")"
      ],
      "metadata": {
        "colab": {
          "base_uri": "https://localhost:8080/",
          "height": 877
        },
        "id": "VJrMrbK5ayZu",
        "outputId": "fd1dbf3d-5f4a-4bf6-e262-bedee2f87dad"
      },
      "execution_count": null,
      "outputs": [
        {
          "output_type": "display_data",
          "data": {
            "text/plain": [
              "<Figure size 1440x1080 with 8 Axes>"
            ],
            "image/png": "[encoded data removed]"
          },
          "metadata": {
            "needs_background": "light"
          }
        }
      ]
    },
    {
      "cell_type": "markdown",
      "source": [
        "# **Heatmap**"
      ],
      "metadata": {
        "id": "Rv4Dp4N0Ym4o"
      }
    },
    {
      "cell_type": "code",
      "source": [
        "def HM(df,fs):\n",
        "  import seaborn as sb\n",
        "  import matplotlib.pyplot as plt\n",
        "  plt.figure(figsize=fs)\n",
        "  sb.heatmap(df.corr(),annot=True,cmap=\"coolwarm\")"
      ],
      "metadata": {
        "id": "6m2hz0MbXpZp"
      },
      "execution_count": null,
      "outputs": []
    },
    {
      "cell_type": "code",
      "source": [
        "HM(a,(20,10))"
      ],
      "metadata": {
        "colab": {
          "base_uri": "https://localhost:8080/",
          "height": 595
        },
        "id": "gdlf5_D1Vtv4",
        "outputId": "30b56e3a-f57e-4e42-eb07-0c060fadeb42"
      },
      "execution_count": null,
      "outputs": [
        {
          "output_type": "display_data",
          "data": {
            "text/plain": [
              "<Figure size 1440x720 with 2 Axes>"
            ],
            "image/png": "[encoded data removed]"
          },
          "metadata": {
            "needs_background": "light"
          }
        }
      ]
    },
    {
      "cell_type": "markdown",
      "source": [
        "# **Continuous and Categorical columns**"
      ],
      "metadata": {
        "id": "vJXv_rN3fbPv"
      }
    },
    {
      "cell_type": "code",
      "source": [
        "def catcon(df):\n",
        "  cat=[]\n",
        "  con=[]\n",
        "  for i in df.columns:\n",
        "    if df[i].dtypes==\"object\":\n",
        "      cat.append(i)\n",
        "    else:\n",
        "      con.append(i)\n",
        "  return cat,con"
      ],
      "metadata": {
        "id": "fbnGYOVZXtw2"
      },
      "execution_count": null,
      "outputs": []
    },
    {
      "cell_type": "code",
      "source": [
        "cat,con=catcon(a)"
      ],
      "metadata": {
        "id": "LP2kHJQZffZ2"
      },
      "execution_count": null,
      "outputs": []
    },
    {
      "cell_type": "code",
      "source": [
        "cat"
      ],
      "metadata": {
        "colab": {
          "base_uri": "https://localhost:8080/"
        },
        "id": "K2MXjRs3fh1L",
        "outputId": "65dd4452-2cb7-459f-a1dd-769340a36f6c"
      },
      "execution_count": null,
      "outputs": [
        {
          "output_type": "execute_result",
          "data": {
            "text/plain": [
              "['PassengerId', 'HomePlanet', 'CryoSleep', 'Cabin', 'Destination', 'Name']"
            ]
          },
          "metadata": {},
          "execution_count": 23
        }
      ]
    },
    {
      "cell_type": "code",
      "source": [
        "con"
      ],
      "metadata": {
        "colab": {
          "base_uri": "https://localhost:8080/"
        },
        "id": "1JU7kefCfh3m",
        "outputId": "4564b0bf-45b0-4543-92db-178b5a7c733a"
      },
      "execution_count": null,
      "outputs": [
        {
          "output_type": "execute_result",
          "data": {
            "text/plain": [
              "['Age',\n",
              " 'VIP',\n",
              " 'RoomService',\n",
              " 'FoodCourt',\n",
              " 'ShoppingMall',\n",
              " 'Spa',\n",
              " 'VRDeck',\n",
              " 'Transported']"
            ]
          },
          "metadata": {},
          "execution_count": 24
        }
      ]
    },
    {
      "cell_type": "markdown",
      "source": [
        "# **ChiSquare Test**"
      ],
      "metadata": {
        "id": "WVzLRzPgcG0q"
      }
    },
    {
      "cell_type": "code",
      "source": [
        "def CHI(df,cat_col):\n",
        "  from scipy.stats import chi2_contingency\n",
        "  import pandas as pd\n",
        "  def catcon(df):\n",
        "    cat=[]\n",
        "    con=[]\n",
        "    for i in df.columns:\n",
        "      if df[i].dtypes==\"object\":\n",
        "        cat.append(i)\n",
        "      else:\n",
        "        con.append(i)\n",
        "    return cat,con\n",
        "  cat,con=catcon(df)\n",
        "  imp_cat=[]\n",
        "  for i in cat:\n",
        "    q=chi2_contingency(pd.crosstab(df[cat_col],df[i]))[1]\n",
        "    if q < 0.035:\n",
        "      imp_cat.append(i)\n",
        "  for i in imp_cat:\n",
        "    if cat_col in imp_cat:\n",
        "      imp_cat.remove(cat_col)\n",
        "    else:\n",
        "      pass\n",
        "  return imp_cat"
      ],
      "metadata": {
        "id": "KkMRZkG0XxJy"
      },
      "execution_count": null,
      "outputs": []
    },
    {
      "cell_type": "code",
      "source": [
        "CHI(a,\"Transported\")"
      ],
      "metadata": {
        "colab": {
          "base_uri": "https://localhost:8080/"
        },
        "id": "iNCIEm5vY7Hc",
        "outputId": "6b0c0e77-58a5-4531-95d5-6153fa547a69"
      },
      "execution_count": null,
      "outputs": [
        {
          "output_type": "execute_result",
          "data": {
            "text/plain": [
              "[]"
            ]
          },
          "metadata": {},
          "execution_count": 25
        }
      ]
    },
    {
      "cell_type": "code",
      "source": [
        "from scipy.stats import chi2_contingency\n",
        "chi2_contingency(pd.crosstab(a[\"Transported\"],a[\"PassengerId\"]))[1]"
      ],
      "metadata": {
        "colab": {
          "base_uri": "https://localhost:8080/"
        },
        "id": "ErexEEzPdKvj",
        "outputId": "adfcc40c-9c0d-4272-8961-f7ea29686b59"
      },
      "execution_count": null,
      "outputs": [
        {
          "output_type": "execute_result",
          "data": {
            "text/plain": [
              "0.49437526805568843"
            ]
          },
          "metadata": {},
          "execution_count": 26
        }
      ]
    },
    {
      "cell_type": "code",
      "source": [
        "from scipy.stats import chi2_contingency\n",
        "chi2_contingency(pd.crosstab(a[\"Transported\"],a[\"HomePlanet\"]))[1]"
      ],
      "metadata": {
        "colab": {
          "base_uri": "https://localhost:8080/"
        },
        "id": "75YNKVuIeBIV",
        "outputId": "fda0a052-4ab9-4637-e226-fbc4e7022986"
      },
      "execution_count": null,
      "outputs": [
        {
          "output_type": "execute_result",
          "data": {
            "text/plain": [
              "0.6828661145154467"
            ]
          },
          "metadata": {},
          "execution_count": 27
        }
      ]
    },
    {
      "cell_type": "code",
      "source": [
        "from scipy.stats import chi2_contingency\n",
        "chi2_contingency(pd.crosstab(a[\"Transported\"],a[\"CryoSleep\"]))[1]"
      ],
      "metadata": {
        "colab": {
          "base_uri": "https://localhost:8080/"
        },
        "id": "OQ87IHKQeBLX",
        "outputId": "f2d7b469-adbc-4254-8bcb-9afd41da6c56"
      },
      "execution_count": null,
      "outputs": [
        {
          "output_type": "execute_result",
          "data": {
            "text/plain": [
              "0.7580415150326497"
            ]
          },
          "metadata": {},
          "execution_count": 28
        }
      ]
    },
    {
      "cell_type": "code",
      "source": [
        "from scipy.stats import chi2_contingency\n",
        "chi2_contingency(pd.crosstab(a[\"Transported\"],a[\"Cabin\"]))[1]"
      ],
      "metadata": {
        "colab": {
          "base_uri": "https://localhost:8080/"
        },
        "id": "Hh54NEhueOtj",
        "outputId": "1a1119f2-8dba-40f8-84bc-b93e63af121c"
      },
      "execution_count": null,
      "outputs": [
        {
          "output_type": "execute_result",
          "data": {
            "text/plain": [
              "0.315247996526829"
            ]
          },
          "metadata": {},
          "execution_count": 29
        }
      ]
    },
    {
      "cell_type": "code",
      "source": [
        "from scipy.stats import chi2_contingency\n",
        "chi2_contingency(pd.crosstab(a[\"Transported\"],a[\"Destination\"]))[1]"
      ],
      "metadata": {
        "colab": {
          "base_uri": "https://localhost:8080/"
        },
        "id": "aZ4FJHxHeOwb",
        "outputId": "0e7b2312-4f80-49d8-e33a-4ea1d9f9e8e8"
      },
      "execution_count": null,
      "outputs": [
        {
          "output_type": "execute_result",
          "data": {
            "text/plain": [
              "0.2289379228074287"
            ]
          },
          "metadata": {},
          "execution_count": 30
        }
      ]
    },
    {
      "cell_type": "code",
      "source": [
        "from scipy.stats import chi2_contingency\n",
        "chi2_contingency(pd.crosstab(a[\"Transported\"],a[\"VIP\"]))[1]"
      ],
      "metadata": {
        "colab": {
          "base_uri": "https://localhost:8080/"
        },
        "id": "EnLG0pfVeOzO",
        "outputId": "3e388a08-bd8d-4b02-d620-44e2fe509b87"
      },
      "execution_count": null,
      "outputs": [
        {
          "output_type": "execute_result",
          "data": {
            "text/plain": [
              "1.0"
            ]
          },
          "metadata": {},
          "execution_count": 31
        }
      ]
    },
    {
      "cell_type": "code",
      "source": [
        "from scipy.stats import chi2_contingency\n",
        "chi2_contingency(pd.crosstab(a[\"Transported\"],a[\"Name\"]))[1]"
      ],
      "metadata": {
        "colab": {
          "base_uri": "https://localhost:8080/"
        },
        "id": "_mSDJn_SeO84",
        "outputId": "af1e5698-47e5-41b3-d83e-c714f6cea54b"
      },
      "execution_count": null,
      "outputs": [
        {
          "output_type": "execute_result",
          "data": {
            "text/plain": [
              "0.49219558952892617"
            ]
          },
          "metadata": {},
          "execution_count": 32
        }
      ]
    },
    {
      "cell_type": "markdown",
      "source": [
        "# **Anova Test**"
      ],
      "metadata": {
        "id": "H_YS0U9Ac8oi"
      }
    },
    {
      "cell_type": "code",
      "source": [
        "def ANOVA_cat(df,cat_col):\n",
        "  from statsmodels.formula.api import ols\n",
        "  from statsmodels.stats.anova import anova_lm\n",
        "  def catcon(df):\n",
        "    cat=[]\n",
        "    con=[]\n",
        "    for i in df.columns:\n",
        "      if df[i].dtypes==\"object\":\n",
        "        cat.append(i)\n",
        "      else:\n",
        "        con.append(i)\n",
        "    return cat,con\n",
        "  cat,con=catcon(df)\n",
        "\n",
        "  imp_con=[]\n",
        "  for i in con:\n",
        "    reg=i + \"~\" + cat_col\n",
        "    model=ols(reg,df).fit()\n",
        "    q=anova_lm(model)\n",
        "    if q.iloc[0,4] < 0.04:\n",
        "      imp_con.append(i)\n",
        "  for i in imp_con:\n",
        "    if cat_col in imp_con:\n",
        "      imp_con.remove(cat_col)\n",
        "    else:\n",
        "      pass\n",
        "  return imp_con"
      ],
      "metadata": {
        "id": "sI6zC-LgX8lu"
      },
      "execution_count": null,
      "outputs": []
    },
    {
      "cell_type": "code",
      "source": [
        "imp_con=ANOVA_cat(a,\"Transported\")"
      ],
      "metadata": {
        "id": "o9oMWD54cPQp"
      },
      "execution_count": null,
      "outputs": []
    },
    {
      "cell_type": "code",
      "source": [
        "imp_con"
      ],
      "metadata": {
        "colab": {
          "base_uri": "https://localhost:8080/"
        },
        "id": "fGyQmmOFdCXj",
        "outputId": "e38b6488-17b9-4a9b-b721-3a2e970d585b"
      },
      "execution_count": null,
      "outputs": [
        {
          "output_type": "execute_result",
          "data": {
            "text/plain": [
              "['Age', 'RoomService', 'FoodCourt', 'ShoppingMall', 'Spa', 'VRDeck']"
            ]
          },
          "metadata": {},
          "execution_count": 34
        }
      ]
    },
    {
      "cell_type": "code",
      "source": [
        "imp_cat=[\"Destination\",\"CryoSleep\"]"
      ],
      "metadata": {
        "id": "xj1FwUlUelCB"
      },
      "execution_count": null,
      "outputs": []
    },
    {
      "cell_type": "markdown",
      "source": [
        "# **Defining X and Y**"
      ],
      "metadata": {
        "id": "07Q8Uuidg6Yx"
      }
    },
    {
      "cell_type": "code",
      "source": [
        "X=a[imp_con+imp_cat]"
      ],
      "metadata": {
        "id": "5jg5c31Rg4oJ"
      },
      "execution_count": null,
      "outputs": []
    },
    {
      "cell_type": "code",
      "source": [
        "Y=a[[\"Transported\"]]"
      ],
      "metadata": {
        "id": "5v33J6cxhBvK"
      },
      "execution_count": null,
      "outputs": []
    },
    {
      "cell_type": "markdown",
      "source": [
        "# **Preprocessing**"
      ],
      "metadata": {
        "id": "lTUDc9a3hYNj"
      }
    },
    {
      "cell_type": "code",
      "source": [
        "cat,con=catcon(X)"
      ],
      "metadata": {
        "id": "jg-WyuFtjW5G"
      },
      "execution_count": null,
      "outputs": []
    },
    {
      "cell_type": "code",
      "source": [
        "from sklearn.preprocessing import StandardScaler\n",
        "ss=StandardScaler()"
      ],
      "metadata": {
        "id": "rv46Hfq1hXsg"
      },
      "execution_count": null,
      "outputs": []
    },
    {
      "cell_type": "code",
      "source": [
        "X1=pd.DataFrame(ss.fit_transform(X[con]),columns=con)"
      ],
      "metadata": {
        "id": "CcoBqIfAjMu2"
      },
      "execution_count": null,
      "outputs": []
    },
    {
      "cell_type": "code",
      "source": [
        "X2=pd.get_dummies(X[cat])"
      ],
      "metadata": {
        "id": "ORVmkq1ojM8C"
      },
      "execution_count": null,
      "outputs": []
    },
    {
      "cell_type": "code",
      "source": [
        "Xnew=X1.join(X2)"
      ],
      "metadata": {
        "id": "qhO4eJPQjiJT"
      },
      "execution_count": null,
      "outputs": []
    },
    {
      "cell_type": "code",
      "source": [
        "Xnew.head(3)"
      ],
      "metadata": {
        "colab": {
          "base_uri": "https://localhost:8080/",
          "height": 225
        },
        "id": "TdRUjvpkji_r",
        "outputId": "95f1895c-d727-4fb3-d773-a3c3c5a0e4e4"
      },
      "execution_count": null,
      "outputs": [
        {
          "output_type": "execute_result",
          "data": {
            "text/plain": [
              "        Age  RoomService  FoodCourt  ShoppingMall       Spa    VRDeck  \\\n",
              "0  0.768708    -0.425873  -0.344108     -0.405844 -0.364988 -0.360378   \n",
              "1 -0.285474    -0.125547  -0.331321     -0.322471  0.861668 -0.259397   \n",
              "2  0.347035    -0.425873   1.478751      0.831405  7.073146  0.082560   \n",
              "\n",
              "   Destination_55 Cancri e  Destination_PSO J318.5-22  \\\n",
              "0                        0                          0   \n",
              "1                        0                          0   \n",
              "2                        0                          0   \n",
              "\n",
              "   Destination_TRAPPIST-1e  CryoSleep_False  CryoSleep_True  CryoSleep_nan  \n",
              "0                        1                1               0              0  \n",
              "1                        1                1               0              0  \n",
              "2                        0                0               0              0  "
            ],
            "text/html": [
              "\n",
              "  <div id=\"df-dfe9f31d-64f7-4304-a362-afcc6b741118\">\n",
              "    <div class=\"colab-df-container\">\n",
              "      <div>\n",
              "<style scoped>\n",
              "    .dataframe tbody tr th:only-of-type {\n",
              "        vertical-align: middle;\n",
              "    }\n",
              "\n",
              "    .dataframe tbody tr th {\n",
              "        vertical-align: top;\n",
              "    }\n",
              "\n",
              "    .dataframe thead th {\n",
              "        text-align: right;\n",
              "    }\n",
              "</style>\n",
              "<table border=\"1\" class=\"dataframe\">\n",
              "  <thead>\n",
              "    <tr style=\"text-align: right;\">\n",
              "      <th></th>\n",
              "      <th>Age</th>\n",
              "      <th>RoomService</th>\n",
              "      <th>FoodCourt</th>\n",
              "      <th>ShoppingMall</th>\n",
              "      <th>Spa</th>\n",
              "      <th>VRDeck</th>\n",
              "      <th>Destination_55 Cancri e</th>\n",
              "      <th>Destination_PSO J318.5-22</th>\n",
              "      <th>Destination_TRAPPIST-1e</th>\n",
              "      <th>CryoSleep_False</th>\n",
              "      <th>CryoSleep_True</th>\n",
              "      <th>CryoSleep_nan</th>\n",
              "    </tr>\n",
              "  </thead>\n",
              "  <tbody>\n",
              "    <tr>\n",
              "      <th>0</th>\n",
              "      <td>0.768708</td>\n",
              "      <td>-0.425873</td>\n",
              "      <td>-0.344108</td>\n",
              "      <td>-0.405844</td>\n",
              "      <td>-0.364988</td>\n",
              "      <td>-0.360378</td>\n",
              "      <td>0</td>\n",
              "      <td>0</td>\n",
              "      <td>1</td>\n",
              "      <td>1</td>\n",
              "      <td>0</td>\n",
              "      <td>0</td>\n",
              "    </tr>\n",
              "    <tr>\n",
              "      <th>1</th>\n",
              "      <td>-0.285474</td>\n",
              "      <td>-0.125547</td>\n",
              "      <td>-0.331321</td>\n",
              "      <td>-0.322471</td>\n",
              "      <td>0.861668</td>\n",
              "      <td>-0.259397</td>\n",
              "      <td>0</td>\n",
              "      <td>0</td>\n",
              "      <td>1</td>\n",
              "      <td>1</td>\n",
              "      <td>0</td>\n",
              "      <td>0</td>\n",
              "    </tr>\n",
              "    <tr>\n",
              "      <th>2</th>\n",
              "      <td>0.347035</td>\n",
              "      <td>-0.425873</td>\n",
              "      <td>1.478751</td>\n",
              "      <td>0.831405</td>\n",
              "      <td>7.073146</td>\n",
              "      <td>0.082560</td>\n",
              "      <td>0</td>\n",
              "      <td>0</td>\n",
              "      <td>0</td>\n",
              "      <td>0</td>\n",
              "      <td>0</td>\n",
              "      <td>0</td>\n",
              "    </tr>\n",
              "  </tbody>\n",
              "</table>\n",
              "</div>\n",
              "      <button class=\"colab-df-convert\" onclick=\"convertToInteractive('df-dfe9f31d-64f7-4304-a362-afcc6b741118')\"\n",
              "              title=\"Convert this dataframe to an interactive table.\"\n",
              "              style=\"display:none;\">\n",
              "        \n",
              "  <svg xmlns=\"http://www.w3.org/2000/svg\" height=\"24px\"viewBox=\"0 0 24 24\"\n",
              "       width=\"24px\">\n",
              "    <path d=\"M0 0h24v24H0V0z\" fill=\"none\"/>\n",
              "    <path d=\"M18.56 5.44l.94 2.06.94-2.06 2.06-.94-2.06-.94-.94-2.06-.94 2.06-2.06.94zm-11 1L8.5 8.5l.94-2.06 2.06-.94-2.06-.94L8.5 2.5l-.94 2.06-2.06.94zm10 10l.94 2.06.94-2.06 2.06-.94-2.06-.94-.94-2.06-.94 2.06-2.06.94z\"/><path d=\"M17.41 7.96l-1.37-1.37c-.4-.4-.92-.59-1.43-.59-.52 0-1.04.2-1.43.59L10.3 9.45l-7.72 7.72c-.78.78-.78 2.05 0 2.83L4 21.41c.39.39.9.59 1.41.59.51 0 1.02-.2 1.41-.59l7.78-7.78 2.81-2.81c.8-.78.8-2.07 0-2.86zM5.41 20L4 18.59l7.72-7.72 1.47 1.35L5.41 20z\"/>\n",
              "  </svg>\n",
              "      </button>\n",
              "      \n",
              "  <style>\n",
              "    .colab-df-container {\n",
              "      display:flex;\n",
              "      flex-wrap:wrap;\n",
              "      gap: 12px;\n",
              "    }\n",
              "\n",
              "    .colab-df-convert {\n",
              "      background-color: #E8F0FE;\n",
              "      border: none;\n",
              "      border-radius: 50%;\n",
              "      cursor: pointer;\n",
              "      display: none;\n",
              "      fill: #1967D2;\n",
              "      height: 32px;\n",
              "      padding: 0 0 0 0;\n",
              "      width: 32px;\n",
              "    }\n",
              "\n",
              "    .colab-df-convert:hover {\n",
              "      background-color: #E2EBFA;\n",
              "      box-shadow: 0px 1px 2px rgba(60, 64, 67, 0.3), 0px 1px 3px 1px rgba(60, 64, 67, 0.15);\n",
              "      fill: #174EA6;\n",
              "    }\n",
              "\n",
              "    [theme=dark] .colab-df-convert {\n",
              "      background-color: #3B4455;\n",
              "      fill: #D2E3FC;\n",
              "    }\n",
              "\n",
              "    [theme=dark] .colab-df-convert:hover {\n",
              "      background-color: #434B5C;\n",
              "      box-shadow: 0px 1px 3px 1px rgba(0, 0, 0, 0.15);\n",
              "      filter: drop-shadow(0px 1px 2px rgba(0, 0, 0, 0.3));\n",
              "      fill: #FFFFFF;\n",
              "    }\n",
              "  </style>\n",
              "\n",
              "      <script>\n",
              "        const buttonEl =\n",
              "          document.querySelector('#df-dfe9f31d-64f7-4304-a362-afcc6b741118 button.colab-df-convert');\n",
              "        buttonEl.style.display =\n",
              "          google.colab.kernel.accessAllowed ? 'block' : 'none';\n",
              "\n",
              "        async function convertToInteractive(key) {\n",
              "          const element = document.querySelector('#df-dfe9f31d-64f7-4304-a362-afcc6b741118');\n",
              "          const dataTable =\n",
              "            await google.colab.kernel.invokeFunction('convertToInteractive',\n",
              "                                                     [key], {});\n",
              "          if (!dataTable) return;\n",
              "\n",
              "          const docLinkHtml = 'Like what you see? Visit the ' +\n",
              "            '<a target=\"_blank\" href=https://colab.research.google.com/notebooks/data_table.ipynb>data table notebook</a>'\n",
              "            + ' to learn more about interactive tables.';\n",
              "          element.innerHTML = '';\n",
              "          dataTable['output_type'] = 'display_data';\n",
              "          await google.colab.output.renderOutput(dataTable, element);\n",
              "          const docLink = document.createElement('div');\n",
              "          docLink.innerHTML = docLinkHtml;\n",
              "          element.appendChild(docLink);\n",
              "        }\n",
              "      </script>\n",
              "    </div>\n",
              "  </div>\n",
              "  "
            ]
          },
          "metadata": {},
          "execution_count": 43
        }
      ]
    },
    {
      "cell_type": "markdown",
      "source": [
        "# **Train Test Split**"
      ],
      "metadata": {
        "id": "9vf3m3UghK0P"
      }
    },
    {
      "cell_type": "code",
      "source": [
        "from sklearn.model_selection import train_test_split\n",
        "xtrain,xtest,ytrain,ytest=train_test_split(Xnew,Y,test_size=0.2,random_state=21)"
      ],
      "metadata": {
        "id": "PX6vxXyehDNc"
      },
      "execution_count": null,
      "outputs": []
    },
    {
      "cell_type": "markdown",
      "source": [
        "# **Decision Tree MSplit**"
      ],
      "metadata": {
        "id": "ovvRc9Pjjsoq"
      }
    },
    {
      "cell_type": "code",
      "source": [
        "from sklearn.tree import DecisionTreeClassifier\n",
        "dtc=DecisionTreeClassifier(criterion=\"gini\",random_state=31,min_samples_split=11)\n",
        "model_dtc=dtc.fit(xtrain,ytrain)\n",
        "\n",
        "pred_tr_dtc = model_dtc.predict(xtrain)\n",
        "pred_ts_dtc = model_dtc.predict(xtest)\n",
        "\n",
        "from sklearn.metrics import accuracy_score\n",
        "tr_acc_dtc = accuracy_score(ytrain,pred_tr_dtc)\n",
        "ts_acc_dtc = accuracy_score(ytest,pred_ts_dtc)\n",
        "\n",
        "print(\"__________________________________________\")\n",
        "print(\"Training Accuracy: \",tr_acc_dtc)\n",
        "print(\"Testing Accuracy: \",ts_acc_dtc)\n",
        "print(\"__________________________________________\")"
      ],
      "metadata": {
        "colab": {
          "base_uri": "https://localhost:8080/"
        },
        "id": "V4i1cU4Ejvls",
        "outputId": "955485aa-9381-4739-b5f8-bf56462ee24f"
      },
      "execution_count": null,
      "outputs": [
        {
          "output_type": "stream",
          "name": "stdout",
          "text": [
            "__________________________________________\n",
            "Training Accuracy:  0.8594100673292722\n",
            "Testing Accuracy:  0.7064102564102565\n",
            "__________________________________________\n"
          ]
        }
      ]
    },
    {
      "cell_type": "markdown",
      "source": [
        "### **Finding Best Parameters for DTC**"
      ],
      "metadata": {
        "id": "iJmvJutEk0Th"
      }
    },
    {
      "cell_type": "code",
      "source": [
        "tg={\"criterion\":[\"entropy\",\"gini\"],\"min_samples_split\":range(0,60)}"
      ],
      "metadata": {
        "id": "flCDL9FZk7As"
      },
      "execution_count": null,
      "outputs": []
    },
    {
      "cell_type": "code",
      "source": [
        "from sklearn.tree import DecisionTreeClassifier\n",
        "dtc=DecisionTreeClassifier(random_state=31)\n",
        "from sklearn.model_selection import GridSearchCV\n",
        "cv=GridSearchCV(dtc,tg,scoring=\"accuracy\",cv=4)\n",
        "cvmodel=cv.fit(xtrain,ytrain)\n",
        "cvmodel.best_params_"
      ],
      "metadata": {
        "colab": {
          "base_uri": "https://localhost:8080/"
        },
        "id": "VIuoiYHSlL-N",
        "outputId": "0a130933-24f6-4eed-ee47-a301bde367c1"
      },
      "execution_count": null,
      "outputs": [
        {
          "output_type": "execute_result",
          "data": {
            "text/plain": [
              "{'criterion': 'gini', 'min_samples_split': 54}"
            ]
          },
          "metadata": {},
          "execution_count": 47
        }
      ]
    },
    {
      "cell_type": "markdown",
      "source": [
        "**Msplit Model with best params**"
      ],
      "metadata": {
        "id": "PQNDUtYYmO-C"
      }
    },
    {
      "cell_type": "code",
      "source": [
        "from sklearn.tree import DecisionTreeClassifier\n",
        "dtc=DecisionTreeClassifier(criterion=\"gini\",random_state=31,min_samples_split=54)\n",
        "model_dtc_ms=dtc.fit(xtrain,ytrain)\n",
        "\n",
        "pred_tr_dtc_ms = model_dtc_ms.predict(xtrain)\n",
        "pred_ts_dtc_ms = model_dtc_ms.predict(xtest)\n",
        "\n",
        "from sklearn.metrics import accuracy_score\n",
        "tr_acc_dtc_ms = accuracy_score(ytrain,pred_tr_dtc_ms)\n",
        "ts_acc_dtc_ms = accuracy_score(ytest,pred_ts_dtc_ms)\n",
        "\n",
        "print(\"__________________________________________\")\n",
        "print(\"Training Accuracy: \",tr_acc_dtc_ms)\n",
        "print(\"Testing Accuracy: \",ts_acc_dtc_ms)\n",
        "print(\"__________________________________________\")"
      ],
      "metadata": {
        "colab": {
          "base_uri": "https://localhost:8080/"
        },
        "id": "khDtuRPolzyB",
        "outputId": "2ab14371-632e-4ed0-e885-ffda3f6303a7"
      },
      "execution_count": null,
      "outputs": [
        {
          "output_type": "stream",
          "name": "stdout",
          "text": [
            "__________________________________________\n",
            "Training Accuracy:  0.8041038794485412\n",
            "Testing Accuracy:  0.7339743589743589\n",
            "__________________________________________\n"
          ]
        }
      ]
    },
    {
      "cell_type": "markdown",
      "source": [
        "# **Decision Tree Mleaf**"
      ],
      "metadata": {
        "id": "lW_sMbmYpXgL"
      }
    },
    {
      "cell_type": "code",
      "source": [
        "from sklearn.tree import DecisionTreeClassifier\n",
        "dtc=DecisionTreeClassifier(criterion=\"gini\",random_state=31,min_samples_leaf=15)\n",
        "model_dtc=dtc.fit(xtrain,ytrain)\n",
        "\n",
        "pred_tr_dtc = model_dtc.predict(xtrain)\n",
        "pred_ts_dtc = model_dtc.predict(xtest)\n",
        "\n",
        "from sklearn.metrics import accuracy_score\n",
        "tr_acc_dtc = accuracy_score(ytrain,pred_tr_dtc)\n",
        "ts_acc_dtc = accuracy_score(ytest,pred_ts_dtc)\n",
        "\n",
        "print(\"__________________________________________\")\n",
        "print(\"Training Accuracy: \",tr_acc_dtc)\n",
        "print(\"Testing Accuracy: \",ts_acc_dtc)\n",
        "print(\"__________________________________________\")"
      ],
      "metadata": {
        "colab": {
          "base_uri": "https://localhost:8080/"
        },
        "id": "JmDd0xR6pOFl",
        "outputId": "4ad84838-8027-48ff-eed4-d63949b573d9"
      },
      "execution_count": null,
      "outputs": [
        {
          "output_type": "stream",
          "name": "stdout",
          "text": [
            "__________________________________________\n",
            "Training Accuracy:  0.8004168002564924\n",
            "Testing Accuracy:  0.7506410256410256\n",
            "__________________________________________\n"
          ]
        }
      ]
    },
    {
      "cell_type": "code",
      "source": [
        "tg={\"criterion\":[\"entropy\",\"gini\"],\"min_samples_leaf\":range(0,60)}"
      ],
      "metadata": {
        "id": "cr_WozWYpoqo"
      },
      "execution_count": null,
      "outputs": []
    },
    {
      "cell_type": "code",
      "source": [
        "from sklearn.tree import DecisionTreeClassifier\n",
        "dtc=DecisionTreeClassifier(random_state=31)\n",
        "from sklearn.model_selection import GridSearchCV\n",
        "cv=GridSearchCV(dtc,tg,scoring=\"accuracy\",cv=4)\n",
        "cvmodel=cv.fit(xtrain,ytrain)\n",
        "cvmodel.best_params_"
      ],
      "metadata": {
        "colab": {
          "base_uri": "https://localhost:8080/"
        },
        "id": "j8nsfBdmpt5J",
        "outputId": "b86e94c9-2a3a-4a4a-cc54-33b21e02a745"
      },
      "execution_count": null,
      "outputs": [
        {
          "output_type": "execute_result",
          "data": {
            "text/plain": [
              "{'criterion': 'entropy', 'min_samples_leaf': 33}"
            ]
          },
          "metadata": {},
          "execution_count": 51
        }
      ]
    },
    {
      "cell_type": "markdown",
      "source": [
        "**Mleaf Model with best params**"
      ],
      "metadata": {
        "id": "EcIRyYGxp2jr"
      }
    },
    {
      "cell_type": "code",
      "source": [
        "from sklearn.tree import DecisionTreeClassifier\n",
        "dtc=DecisionTreeClassifier(criterion=\"entropy\",random_state=31,min_samples_leaf=33)\n",
        "model_dtc_mleaf=dtc.fit(xtrain,ytrain)\n",
        "\n",
        "pred_tr_dtc_mleaf = model_dtc_ms.predict(xtrain)\n",
        "pred_ts_dtc_mleaf = model_dtc_ms.predict(xtest)\n",
        "\n",
        "from sklearn.metrics import accuracy_score\n",
        "tr_acc_dtc_mleaf = accuracy_score(ytrain,pred_tr_dtc_mleaf)\n",
        "ts_acc_dtc_mleaf = accuracy_score(ytest,pred_ts_dtc_mleaf)\n",
        "\n",
        "print(\"__________________________________________\")\n",
        "print(\"Training Accuracy: \",tr_acc_dtc_mleaf)\n",
        "print(\"Testing Accuracy: \",ts_acc_dtc_mleaf)\n",
        "print(\"__________________________________________\")"
      ],
      "metadata": {
        "colab": {
          "base_uri": "https://localhost:8080/"
        },
        "id": "44HwmPhwpys5",
        "outputId": "2e397eba-a6b1-4ff1-9844-20d77b4acdc5"
      },
      "execution_count": null,
      "outputs": [
        {
          "output_type": "stream",
          "name": "stdout",
          "text": [
            "__________________________________________\n",
            "Training Accuracy:  0.8041038794485412\n",
            "Testing Accuracy:  0.7339743589743589\n",
            "__________________________________________\n"
          ]
        }
      ]
    },
    {
      "cell_type": "markdown",
      "source": [
        "# **Decision Tree MaxDepth**"
      ],
      "metadata": {
        "id": "5xAQgrdVrWgR"
      }
    },
    {
      "cell_type": "code",
      "source": [
        "from sklearn.tree import DecisionTreeClassifier\n",
        "dtc=DecisionTreeClassifier(criterion=\"gini\",random_state=31,max_depth=3)\n",
        "model_dtc=dtc.fit(xtrain,ytrain)\n",
        "\n",
        "pred_tr_dtc = model_dtc.predict(xtrain)\n",
        "pred_ts_dtc = model_dtc.predict(xtest)\n",
        "\n",
        "from sklearn.metrics import accuracy_score\n",
        "tr_acc_dtc = accuracy_score(ytrain,pred_tr_dtc)\n",
        "ts_acc_dtc = accuracy_score(ytest,pred_ts_dtc)\n",
        "\n",
        "print(\"__________________________________________\")\n",
        "print(\"Training Accuracy: \",tr_acc_dtc)\n",
        "print(\"Testing Accuracy: \",ts_acc_dtc)\n",
        "print(\"__________________________________________\")"
      ],
      "metadata": {
        "colab": {
          "base_uri": "https://localhost:8080/"
        },
        "id": "s0PPf8WhrQi-",
        "outputId": "a954b83e-ef45-4f26-910f-dbf5a3c67880"
      },
      "execution_count": null,
      "outputs": [
        {
          "output_type": "stream",
          "name": "stdout",
          "text": [
            "__________________________________________\n",
            "Training Accuracy:  0.7595383135620392\n",
            "Testing Accuracy:  0.7461538461538462\n",
            "__________________________________________\n"
          ]
        }
      ]
    },
    {
      "cell_type": "code",
      "source": [
        "tg={\"criterion\":[\"entropy\",\"gini\"],\"max_depth\":range(0,20)}\n",
        "\n",
        "from sklearn.tree import DecisionTreeClassifier\n",
        "dtc=DecisionTreeClassifier(random_state=31)\n",
        "from sklearn.model_selection import GridSearchCV\n",
        "cv=GridSearchCV(dtc,tg,scoring=\"accuracy\",cv=4)\n",
        "cvmodel=cv.fit(xtrain,ytrain)\n",
        "cvmodel.best_params_"
      ],
      "metadata": {
        "colab": {
          "base_uri": "https://localhost:8080/"
        },
        "id": "g7neF3qxrfCp",
        "outputId": "dc5c72bf-1306-4d69-ee59-1ef3a2f6a95c"
      },
      "execution_count": null,
      "outputs": [
        {
          "output_type": "execute_result",
          "data": {
            "text/plain": [
              "{'criterion': 'entropy', 'max_depth': 7}"
            ]
          },
          "metadata": {},
          "execution_count": 54
        }
      ]
    },
    {
      "cell_type": "markdown",
      "source": [
        "**Mdepth Model with best params**"
      ],
      "metadata": {
        "id": "_r0rRr8SsHso"
      }
    },
    {
      "cell_type": "code",
      "source": [
        "from sklearn.tree import DecisionTreeClassifier\n",
        "dtc=DecisionTreeClassifier(criterion=\"gini\",random_state=31,max_depth=7)\n",
        "model_dtc_mdepth=dtc.fit(xtrain,ytrain)\n",
        "\n",
        "pred_tr_dtc_mdepth = model_dtc_mdepth.predict(xtrain)\n",
        "pred_ts_dtc_mdepth = model_dtc_mdepth.predict(xtest)\n",
        "\n",
        "from sklearn.metrics import accuracy_score\n",
        "tr_acc_dtc_mdepth = accuracy_score(ytrain,pred_tr_dtc_mdepth)\n",
        "ts_acc_dtc_mdepth = accuracy_score(ytest,pred_ts_dtc_mdepth)\n",
        "\n",
        "print(\"__________________________________________\")\n",
        "print(\"Training Accuracy: \",tr_acc_dtc_mdepth)\n",
        "print(\"Testing Accuracy: \",ts_acc_dtc_mdepth)\n",
        "print(\"__________________________________________\")"
      ],
      "metadata": {
        "colab": {
          "base_uri": "https://localhost:8080/"
        },
        "id": "mMA9ENAoroU9",
        "outputId": "a280168d-8442-4fdd-f510-ef2207d93508"
      },
      "execution_count": null,
      "outputs": [
        {
          "output_type": "stream",
          "name": "stdout",
          "text": [
            "__________________________________________\n",
            "Training Accuracy:  0.7965694132734851\n",
            "Testing Accuracy:  0.7615384615384615\n",
            "__________________________________________\n"
          ]
        }
      ]
    },
    {
      "cell_type": "markdown",
      "source": [
        "# **Random Forest Classifier**"
      ],
      "metadata": {
        "id": "aNMJCLRir_3-"
      }
    },
    {
      "cell_type": "code",
      "source": [
        "from sklearn.ensemble import RandomForestClassifier\n",
        "rfc=RandomForestClassifier(criterion=\"gini\",random_state=31,min_samples_split=11,n_estimators=50)\n",
        "model_rfc=rfc.fit(xtrain,ytrain)\n",
        "\n",
        "pred_tr_rfc=model_rfc.predict(xtrain)\n",
        "pred_ts_rfc=model_rfc.predict(xtest)\n",
        "\n",
        "from sklearn.metrics import accuracy_score\n",
        "tr_acc_rfc = accuracy_score(ytrain,pred_tr_rfc)\n",
        "ts_acc_rfc = accuracy_score(ytest,pred_ts_rfc)\n",
        "\n",
        "print(\"__________________________________________\")\n",
        "print(\"Training Accuracy: \",tr_acc_rfc)\n",
        "print(\"Testing Accuracy: \",ts_acc_rfc)\n",
        "print(\"__________________________________________\")"
      ],
      "metadata": {
        "id": "gIci66ENsCqK",
        "colab": {
          "base_uri": "https://localhost:8080/"
        },
        "outputId": "f8573a10-ccf4-4791-d155-8c98d2f6f711"
      },
      "execution_count": null,
      "outputs": [
        {
          "output_type": "stream",
          "name": "stdout",
          "text": [
            "__________________________________________\n",
            "Training Accuracy:  0.8574863738377685\n",
            "Testing Accuracy:  0.7596153846153846\n",
            "__________________________________________\n"
          ]
        }
      ]
    },
    {
      "cell_type": "code",
      "source": [
        "tg={\"min_samples_split\":range(2,20),\"n_estimators\":range(2,20)}\n",
        "\n",
        "from sklearn.ensemble import RandomForestClassifier\n",
        "rfc=RandomForestClassifier(random_state=31)\n",
        "from sklearn.model_selection import GridSearchCV\n",
        "cv=GridSearchCV(rfc,tg,scoring=\"accuracy\",cv=4)\n",
        "cvmodel=cv.fit(xtrain,ytrain)\n",
        "cvmodel.best_params_"
      ],
      "metadata": {
        "id": "xvEvLXu8sCsk",
        "colab": {
          "base_uri": "https://localhost:8080/"
        },
        "outputId": "3bc7b7a2-6926-450f-f32f-4c6584ddd723"
      },
      "execution_count": null,
      "outputs": [
        {
          "output_type": "execute_result",
          "data": {
            "text/plain": [
              "{'min_samples_split': 16, 'n_estimators': 17}"
            ]
          },
          "metadata": {},
          "execution_count": 57
        }
      ]
    },
    {
      "cell_type": "markdown",
      "source": [
        "**RFC Model with best params**"
      ],
      "metadata": {
        "id": "U2AY8UxBpl8e"
      }
    },
    {
      "cell_type": "code",
      "source": [
        "from sklearn.ensemble import RandomForestClassifier\n",
        "rfc=RandomForestClassifier(criterion=\"gini\",random_state=31,min_samples_split=16,n_estimators=17)\n",
        "model_rfc=rfc.fit(xtrain,ytrain)\n",
        "\n",
        "pred_tr_rfc=model_rfc.predict(xtrain)\n",
        "pred_ts_rfc=model_rfc.predict(xtest)\n",
        "\n",
        "from sklearn.metrics import accuracy_score\n",
        "tr_acc_rfc = accuracy_score(ytrain,pred_tr_rfc)\n",
        "ts_acc_rfc = accuracy_score(ytest,pred_ts_rfc)\n",
        "\n",
        "print(\"__________________________________________\")\n",
        "print(\"Training Accuracy: \",tr_acc_rfc)\n",
        "print(\"Testing Accuracy: \",ts_acc_rfc)\n",
        "print(\"__________________________________________\")"
      ],
      "metadata": {
        "id": "ApMOJOTXpjV4",
        "colab": {
          "base_uri": "https://localhost:8080/"
        },
        "outputId": "ea9656cb-8762-46b3-9a8e-968d4ed90104"
      },
      "execution_count": null,
      "outputs": [
        {
          "output_type": "stream",
          "name": "stdout",
          "text": [
            "__________________________________________\n",
            "Training Accuracy:  0.8388906700865663\n",
            "Testing Accuracy:  0.7628205128205128\n",
            "__________________________________________\n"
          ]
        }
      ]
    },
    {
      "cell_type": "markdown",
      "source": [
        "# **AdaBoost**"
      ],
      "metadata": {
        "id": "vcF3zEsNpsCQ"
      }
    },
    {
      "cell_type": "code",
      "source": [
        "from sklearn.tree import DecisionTreeClassifier\n",
        "from sklearn.ensemble import AdaBoostClassifier\n",
        "\n",
        "dtc=DecisionTreeClassifier(criterion='gini',min_samples_split=57,random_state=31)\n",
        "abc=AdaBoostClassifier(dtc,n_estimators=50)\n",
        "model_abc=abc.fit(xtrain,ytrain)\n",
        "\n",
        "pred_tr_abc=model_abc.predict(xtrain)\n",
        "pred_ts_abc=model_abc.predict(xtest)\n",
        "\n",
        "from sklearn.metrics import accuracy_score\n",
        "tr_acc_abc = accuracy_score(ytrain,pred_tr_abc)\n",
        "ts_acc_abc = accuracy_score(ytest,pred_ts_abc)\n",
        "\n",
        "print(\"__________________________________________\")\n",
        "print(\"Training Accuracy: \",tr_acc_abc)\n",
        "print(\"Testing Accuracy: \",ts_acc_abc)\n",
        "print(\"__________________________________________\")"
      ],
      "metadata": {
        "id": "i6EdDEfppuoC",
        "colab": {
          "base_uri": "https://localhost:8080/"
        },
        "outputId": "d3d646d5-ab26-4e42-a026-c79d2d050aef"
      },
      "execution_count": null,
      "outputs": [
        {
          "output_type": "stream",
          "name": "stdout",
          "text": [
            "__________________________________________\n",
            "Training Accuracy:  0.9177621032382174\n",
            "Testing Accuracy:  0.7243589743589743\n",
            "__________________________________________\n"
          ]
        }
      ]
    },
    {
      "cell_type": "code",
      "source": [
        "tg={\"n_estimators\":range(2,60)}\n",
        "\n",
        "from sklearn.tree import DecisionTreeClassifier\n",
        "from sklearn.ensemble import AdaBoostClassifier\n",
        "\n",
        "dtc=DecisionTreeClassifier(criterion='gini',min_samples_split=57,random_state=31)\n",
        "abc=AdaBoostClassifier(dtc)\n",
        "\n",
        "from sklearn.model_selection import GridSearchCV\n",
        "cv=GridSearchCV(abc,tg,scoring=\"accuracy\",cv=4)\n",
        "cvmodel=cv.fit(xtrain,ytrain)\n",
        "cvmodel.best_params_"
      ],
      "metadata": {
        "id": "Wp92VVugqomD",
        "colab": {
          "base_uri": "https://localhost:8080/"
        },
        "outputId": "5b2c43c3-98c8-4667-ac5c-8390044d3d92"
      },
      "execution_count": null,
      "outputs": [
        {
          "output_type": "execute_result",
          "data": {
            "text/plain": [
              "{'n_estimators': 2}"
            ]
          },
          "metadata": {},
          "execution_count": 60
        }
      ]
    },
    {
      "cell_type": "markdown",
      "source": [
        "**AdaBoost Model with best params**"
      ],
      "metadata": {
        "id": "fvsWvS5OrLek"
      }
    },
    {
      "cell_type": "code",
      "source": [
        "from sklearn.tree import DecisionTreeClassifier\n",
        "from sklearn.ensemble import AdaBoostClassifier\n",
        "\n",
        "dtc=DecisionTreeClassifier(criterion='gini',min_samples_split=57,random_state=31)\n",
        "abc=AdaBoostClassifier(dtc,n_estimators=2)\n",
        "model_abc=abc.fit(xtrain,ytrain)\n",
        "\n",
        "pred_tr_abc=model_abc.predict(xtrain)\n",
        "pred_ts_abc=model_abc.predict(xtest)\n",
        "\n",
        "from sklearn.metrics import accuracy_score\n",
        "tr_acc_abc = accuracy_score(ytrain,pred_tr_abc)\n",
        "ts_acc_abc = accuracy_score(ytest,pred_ts_abc)\n",
        "\n",
        "print(\"__________________________________________\")\n",
        "print(\"Training Accuracy: \",tr_acc_abc)\n",
        "print(\"Testing Accuracy: \",ts_acc_abc)\n",
        "print(\"__________________________________________\")"
      ],
      "metadata": {
        "id": "WTxsg5Ioqoqs",
        "colab": {
          "base_uri": "https://localhost:8080/"
        },
        "outputId": "ffc5dbeb-68ef-414a-968a-632a3e8cf263"
      },
      "execution_count": null,
      "outputs": [
        {
          "output_type": "stream",
          "name": "stdout",
          "text": [
            "__________________________________________\n",
            "Training Accuracy:  0.8352035908945175\n",
            "Testing Accuracy:  0.7314102564102564\n",
            "__________________________________________\n"
          ]
        }
      ]
    },
    {
      "cell_type": "markdown",
      "source": [
        "# **Conclusion:**\n",
        "\n",
        "## **The best models are Decision Tree Classifier with max_depth value = 7 and Random Forest Classifier with params min_samples_split = 16, n_estimators = 17**\n",
        "\n",
        "## **Now we use the model to predict on testing data**"
      ],
      "metadata": {
        "id": "HJhS6-LfJZev"
      }
    },
    {
      "cell_type": "markdown",
      "source": [
        "# **Preparing Testing Data**"
      ],
      "metadata": {
        "id": "3wDhLTZNr0Ll"
      }
    },
    {
      "cell_type": "code",
      "source": [
        "B1=pd.read_csv(\"/content/drive/MyDrive/Colab Notebooks/Space Titanic/test.csv\")"
      ],
      "metadata": {
        "id": "HYxv6jPwr3Zs"
      },
      "execution_count": null,
      "outputs": []
    },
    {
      "cell_type": "code",
      "source": [
        "B=B1[imp_con+imp_cat]"
      ],
      "metadata": {
        "id": "P9kmUAAqr3cZ"
      },
      "execution_count": null,
      "outputs": []
    },
    {
      "cell_type": "code",
      "source": [
        "B.head(3)"
      ],
      "metadata": {
        "colab": {
          "base_uri": "https://localhost:8080/",
          "height": 143
        },
        "id": "iYL7BhBOKQsP",
        "outputId": "daaab2f1-667e-4f41-b605-adf6f7d42841"
      },
      "execution_count": null,
      "outputs": [
        {
          "output_type": "execute_result",
          "data": {
            "text/plain": [
              "    Age  RoomService  FoodCourt  ShoppingMall     Spa  VRDeck  Destination  \\\n",
              "0  27.0          0.0        0.0           0.0     0.0     0.0  TRAPPIST-1e   \n",
              "1  19.0          0.0        9.0           0.0  2823.0     0.0  TRAPPIST-1e   \n",
              "2  31.0          0.0        0.0           0.0     0.0     0.0  55 Cancri e   \n",
              "\n",
              "  CryoSleep  \n",
              "0      True  \n",
              "1     False  \n",
              "2      True  "
            ],
            "text/html": [
              "\n",
              "  <div id=\"df-3ddd1c3f-1bc3-4d74-9e8e-e89e6f5e12fe\">\n",
              "    <div class=\"colab-df-container\">\n",
              "      <div>\n",
              "<style scoped>\n",
              "    .dataframe tbody tr th:only-of-type {\n",
              "        vertical-align: middle;\n",
              "    }\n",
              "\n",
              "    .dataframe tbody tr th {\n",
              "        vertical-align: top;\n",
              "    }\n",
              "\n",
              "    .dataframe thead th {\n",
              "        text-align: right;\n",
              "    }\n",
              "</style>\n",
              "<table border=\"1\" class=\"dataframe\">\n",
              "  <thead>\n",
              "    <tr style=\"text-align: right;\">\n",
              "      <th></th>\n",
              "      <th>Age</th>\n",
              "      <th>RoomService</th>\n",
              "      <th>FoodCourt</th>\n",
              "      <th>ShoppingMall</th>\n",
              "      <th>Spa</th>\n",
              "      <th>VRDeck</th>\n",
              "      <th>Destination</th>\n",
              "      <th>CryoSleep</th>\n",
              "    </tr>\n",
              "  </thead>\n",
              "  <tbody>\n",
              "    <tr>\n",
              "      <th>0</th>\n",
              "      <td>27.0</td>\n",
              "      <td>0.0</td>\n",
              "      <td>0.0</td>\n",
              "      <td>0.0</td>\n",
              "      <td>0.0</td>\n",
              "      <td>0.0</td>\n",
              "      <td>TRAPPIST-1e</td>\n",
              "      <td>True</td>\n",
              "    </tr>\n",
              "    <tr>\n",
              "      <th>1</th>\n",
              "      <td>19.0</td>\n",
              "      <td>0.0</td>\n",
              "      <td>9.0</td>\n",
              "      <td>0.0</td>\n",
              "      <td>2823.0</td>\n",
              "      <td>0.0</td>\n",
              "      <td>TRAPPIST-1e</td>\n",
              "      <td>False</td>\n",
              "    </tr>\n",
              "    <tr>\n",
              "      <th>2</th>\n",
              "      <td>31.0</td>\n",
              "      <td>0.0</td>\n",
              "      <td>0.0</td>\n",
              "      <td>0.0</td>\n",
              "      <td>0.0</td>\n",
              "      <td>0.0</td>\n",
              "      <td>55 Cancri e</td>\n",
              "      <td>True</td>\n",
              "    </tr>\n",
              "  </tbody>\n",
              "</table>\n",
              "</div>\n",
              "      <button class=\"colab-df-convert\" onclick=\"convertToInteractive('df-3ddd1c3f-1bc3-4d74-9e8e-e89e6f5e12fe')\"\n",
              "              title=\"Convert this dataframe to an interactive table.\"\n",
              "              style=\"display:none;\">\n",
              "        \n",
              "  <svg xmlns=\"http://www.w3.org/2000/svg\" height=\"24px\"viewBox=\"0 0 24 24\"\n",
              "       width=\"24px\">\n",
              "    <path d=\"M0 0h24v24H0V0z\" fill=\"none\"/>\n",
              "    <path d=\"M18.56 5.44l.94 2.06.94-2.06 2.06-.94-2.06-.94-.94-2.06-.94 2.06-2.06.94zm-11 1L8.5 8.5l.94-2.06 2.06-.94-2.06-.94L8.5 2.5l-.94 2.06-2.06.94zm10 10l.94 2.06.94-2.06 2.06-.94-2.06-.94-.94-2.06-.94 2.06-2.06.94z\"/><path d=\"M17.41 7.96l-1.37-1.37c-.4-.4-.92-.59-1.43-.59-.52 0-1.04.2-1.43.59L10.3 9.45l-7.72 7.72c-.78.78-.78 2.05 0 2.83L4 21.41c.39.39.9.59 1.41.59.51 0 1.02-.2 1.41-.59l7.78-7.78 2.81-2.81c.8-.78.8-2.07 0-2.86zM5.41 20L4 18.59l7.72-7.72 1.47 1.35L5.41 20z\"/>\n",
              "  </svg>\n",
              "      </button>\n",
              "      \n",
              "  <style>\n",
              "    .colab-df-container {\n",
              "      display:flex;\n",
              "      flex-wrap:wrap;\n",
              "      gap: 12px;\n",
              "    }\n",
              "\n",
              "    .colab-df-convert {\n",
              "      background-color: #E8F0FE;\n",
              "      border: none;\n",
              "      border-radius: 50%;\n",
              "      cursor: pointer;\n",
              "      display: none;\n",
              "      fill: #1967D2;\n",
              "      height: 32px;\n",
              "      padding: 0 0 0 0;\n",
              "      width: 32px;\n",
              "    }\n",
              "\n",
              "    .colab-df-convert:hover {\n",
              "      background-color: #E2EBFA;\n",
              "      box-shadow: 0px 1px 2px rgba(60, 64, 67, 0.3), 0px 1px 3px 1px rgba(60, 64, 67, 0.15);\n",
              "      fill: #174EA6;\n",
              "    }\n",
              "\n",
              "    [theme=dark] .colab-df-convert {\n",
              "      background-color: #3B4455;\n",
              "      fill: #D2E3FC;\n",
              "    }\n",
              "\n",
              "    [theme=dark] .colab-df-convert:hover {\n",
              "      background-color: #434B5C;\n",
              "      box-shadow: 0px 1px 3px 1px rgba(0, 0, 0, 0.15);\n",
              "      filter: drop-shadow(0px 1px 2px rgba(0, 0, 0, 0.3));\n",
              "      fill: #FFFFFF;\n",
              "    }\n",
              "  </style>\n",
              "\n",
              "      <script>\n",
              "        const buttonEl =\n",
              "          document.querySelector('#df-3ddd1c3f-1bc3-4d74-9e8e-e89e6f5e12fe button.colab-df-convert');\n",
              "        buttonEl.style.display =\n",
              "          google.colab.kernel.accessAllowed ? 'block' : 'none';\n",
              "\n",
              "        async function convertToInteractive(key) {\n",
              "          const element = document.querySelector('#df-3ddd1c3f-1bc3-4d74-9e8e-e89e6f5e12fe');\n",
              "          const dataTable =\n",
              "            await google.colab.kernel.invokeFunction('convertToInteractive',\n",
              "                                                     [key], {});\n",
              "          if (!dataTable) return;\n",
              "\n",
              "          const docLinkHtml = 'Like what you see? Visit the ' +\n",
              "            '<a target=\"_blank\" href=https://colab.research.google.com/notebooks/data_table.ipynb>data table notebook</a>'\n",
              "            + ' to learn more about interactive tables.';\n",
              "          element.innerHTML = '';\n",
              "          dataTable['output_type'] = 'display_data';\n",
              "          await google.colab.output.renderOutput(dataTable, element);\n",
              "          const docLink = document.createElement('div');\n",
              "          docLink.innerHTML = docLinkHtml;\n",
              "          element.appendChild(docLink);\n",
              "        }\n",
              "      </script>\n",
              "    </div>\n",
              "  </div>\n",
              "  "
            ]
          },
          "metadata": {},
          "execution_count": 64
        }
      ]
    },
    {
      "cell_type": "code",
      "source": [
        "B[\"CryoSleep\"]=B[\"CryoSleep\"].astype(str)"
      ],
      "metadata": {
        "id": "DlZZuvQgLNv3"
      },
      "execution_count": null,
      "outputs": []
    },
    {
      "cell_type": "markdown",
      "source": [
        "# **Missing Data Treatment**"
      ],
      "metadata": {
        "id": "PzbYxtabKKs9"
      }
    },
    {
      "cell_type": "code",
      "source": [
        "replacer(B)"
      ],
      "metadata": {
        "colab": {
          "base_uri": "https://localhost:8080/"
        },
        "id": "opZGsf3aKNJ5",
        "outputId": "a35cf5d2-92ee-4f92-bee8-5042bce5918b"
      },
      "execution_count": null,
      "outputs": [
        {
          "output_type": "execute_result",
          "data": {
            "text/plain": [
              "Age             0\n",
              "RoomService     0\n",
              "FoodCourt       0\n",
              "ShoppingMall    0\n",
              "Spa             0\n",
              "VRDeck          0\n",
              "Destination     0\n",
              "CryoSleep       0\n",
              "dtype: int64"
            ]
          },
          "metadata": {},
          "execution_count": 66
        }
      ]
    },
    {
      "cell_type": "markdown",
      "source": [
        "# **Preprocessing**\n",
        "\n",
        "### **Note: Use only transform method**"
      ],
      "metadata": {
        "id": "PBGn9mjGJ3kl"
      }
    },
    {
      "cell_type": "code",
      "source": [
        "X1=pd.DataFrame(ss.fit_transform(X[con]),columns=con)"
      ],
      "metadata": {
        "id": "-_hrrCrAJ1jg"
      },
      "execution_count": null,
      "outputs": []
    },
    {
      "cell_type": "code",
      "source": [
        "cat_ts,con_ts=catcon(B)"
      ],
      "metadata": {
        "id": "cOWb-v_ZKuAm"
      },
      "execution_count": null,
      "outputs": []
    },
    {
      "cell_type": "code",
      "source": [
        "con_ts"
      ],
      "metadata": {
        "colab": {
          "base_uri": "https://localhost:8080/"
        },
        "id": "H6MGJm17K8xD",
        "outputId": "0f440a0b-8364-4ec2-dc40-bf6d421ea0de"
      },
      "execution_count": null,
      "outputs": [
        {
          "output_type": "execute_result",
          "data": {
            "text/plain": [
              "['Age', 'RoomService', 'FoodCourt', 'ShoppingMall', 'Spa', 'VRDeck']"
            ]
          },
          "metadata": {},
          "execution_count": 69
        }
      ]
    },
    {
      "cell_type": "code",
      "source": [
        "cat_ts"
      ],
      "metadata": {
        "colab": {
          "base_uri": "https://localhost:8080/"
        },
        "id": "N14BnBmiOSBu",
        "outputId": "d4c339a3-6559-4411-b57b-888c3250ac1d"
      },
      "execution_count": null,
      "outputs": [
        {
          "output_type": "execute_result",
          "data": {
            "text/plain": [
              "['Destination', 'CryoSleep']"
            ]
          },
          "metadata": {},
          "execution_count": 70
        }
      ]
    },
    {
      "cell_type": "code",
      "source": [
        "B2=pd.DataFrame(ss.transform(B[con_ts]),columns=con)\n",
        "B3=pd.get_dummies(B[cat_ts])\n",
        "Bnew=B2.join(B3)"
      ],
      "metadata": {
        "id": "ih4oKX21KKDf"
      },
      "execution_count": null,
      "outputs": []
    },
    {
      "cell_type": "code",
      "source": [
        "Bnew.head()"
      ],
      "metadata": {
        "colab": {
          "base_uri": "https://localhost:8080/",
          "height": 288
        },
        "id": "Ir6K8hC3K1dg",
        "outputId": "74670d7c-664c-4eb3-ab9e-a34b09f677d5"
      },
      "execution_count": null,
      "outputs": [
        {
          "output_type": "execute_result",
          "data": {
            "text/plain": [
              "        Age  RoomService  FoodCourt  ShoppingMall       Spa    VRDeck  \\\n",
              "0 -0.074637    -0.425873  -0.344108     -0.405844 -0.364988 -0.360378   \n",
              "1 -0.636867    -0.425873  -0.331321     -0.405844  5.942567 -0.360378   \n",
              "2  0.206478    -0.425873  -0.344108     -0.405844 -0.364988 -0.360378   \n",
              "3  0.698429    -0.425873   9.106908     -0.405844  0.039429  0.982207   \n",
              "4 -0.566589    -0.398320  -0.344108      1.711819 -0.364988 -0.360378   \n",
              "\n",
              "   Destination_55 Cancri e  Destination_PSO J318.5-22  \\\n",
              "0                        0                          0   \n",
              "1                        0                          0   \n",
              "2                        1                          0   \n",
              "3                        0                          0   \n",
              "4                        0                          0   \n",
              "\n",
              "   Destination_TRAPPIST-1e  CryoSleep_False  CryoSleep_True  CryoSleep_nan  \n",
              "0                        1                0               1              0  \n",
              "1                        1                1               0              0  \n",
              "2                        0                0               1              0  \n",
              "3                        1                1               0              0  \n",
              "4                        1                1               0              0  "
            ],
            "text/html": [
              "\n",
              "  <div id=\"df-53a0156e-6d32-4212-83b2-9773af38f0b9\">\n",
              "    <div class=\"colab-df-container\">\n",
              "      <div>\n",
              "<style scoped>\n",
              "    .dataframe tbody tr th:only-of-type {\n",
              "        vertical-align: middle;\n",
              "    }\n",
              "\n",
              "    .dataframe tbody tr th {\n",
              "        vertical-align: top;\n",
              "    }\n",
              "\n",
              "    .dataframe thead th {\n",
              "        text-align: right;\n",
              "    }\n",
              "</style>\n",
              "<table border=\"1\" class=\"dataframe\">\n",
              "  <thead>\n",
              "    <tr style=\"text-align: right;\">\n",
              "      <th></th>\n",
              "      <th>Age</th>\n",
              "      <th>RoomService</th>\n",
              "      <th>FoodCourt</th>\n",
              "      <th>ShoppingMall</th>\n",
              "      <th>Spa</th>\n",
              "      <th>VRDeck</th>\n",
              "      <th>Destination_55 Cancri e</th>\n",
              "      <th>Destination_PSO J318.5-22</th>\n",
              "      <th>Destination_TRAPPIST-1e</th>\n",
              "      <th>CryoSleep_False</th>\n",
              "      <th>CryoSleep_True</th>\n",
              "      <th>CryoSleep_nan</th>\n",
              "    </tr>\n",
              "  </thead>\n",
              "  <tbody>\n",
              "    <tr>\n",
              "      <th>0</th>\n",
              "      <td>-0.074637</td>\n",
              "      <td>-0.425873</td>\n",
              "      <td>-0.344108</td>\n",
              "      <td>-0.405844</td>\n",
              "      <td>-0.364988</td>\n",
              "      <td>-0.360378</td>\n",
              "      <td>0</td>\n",
              "      <td>0</td>\n",
              "      <td>1</td>\n",
              "      <td>0</td>\n",
              "      <td>1</td>\n",
              "      <td>0</td>\n",
              "    </tr>\n",
              "    <tr>\n",
              "      <th>1</th>\n",
              "      <td>-0.636867</td>\n",
              "      <td>-0.425873</td>\n",
              "      <td>-0.331321</td>\n",
              "      <td>-0.405844</td>\n",
              "      <td>5.942567</td>\n",
              "      <td>-0.360378</td>\n",
              "      <td>0</td>\n",
              "      <td>0</td>\n",
              "      <td>1</td>\n",
              "      <td>1</td>\n",
              "      <td>0</td>\n",
              "      <td>0</td>\n",
              "    </tr>\n",
              "    <tr>\n",
              "      <th>2</th>\n",
              "      <td>0.206478</td>\n",
              "      <td>-0.425873</td>\n",
              "      <td>-0.344108</td>\n",
              "      <td>-0.405844</td>\n",
              "      <td>-0.364988</td>\n",
              "      <td>-0.360378</td>\n",
              "      <td>1</td>\n",
              "      <td>0</td>\n",
              "      <td>0</td>\n",
              "      <td>0</td>\n",
              "      <td>1</td>\n",
              "      <td>0</td>\n",
              "    </tr>\n",
              "    <tr>\n",
              "      <th>3</th>\n",
              "      <td>0.698429</td>\n",
              "      <td>-0.425873</td>\n",
              "      <td>9.106908</td>\n",
              "      <td>-0.405844</td>\n",
              "      <td>0.039429</td>\n",
              "      <td>0.982207</td>\n",
              "      <td>0</td>\n",
              "      <td>0</td>\n",
              "      <td>1</td>\n",
              "      <td>1</td>\n",
              "      <td>0</td>\n",
              "      <td>0</td>\n",
              "    </tr>\n",
              "    <tr>\n",
              "      <th>4</th>\n",
              "      <td>-0.566589</td>\n",
              "      <td>-0.398320</td>\n",
              "      <td>-0.344108</td>\n",
              "      <td>1.711819</td>\n",
              "      <td>-0.364988</td>\n",
              "      <td>-0.360378</td>\n",
              "      <td>0</td>\n",
              "      <td>0</td>\n",
              "      <td>1</td>\n",
              "      <td>1</td>\n",
              "      <td>0</td>\n",
              "      <td>0</td>\n",
              "    </tr>\n",
              "  </tbody>\n",
              "</table>\n",
              "</div>\n",
              "      <button class=\"colab-df-convert\" onclick=\"convertToInteractive('df-53a0156e-6d32-4212-83b2-9773af38f0b9')\"\n",
              "              title=\"Convert this dataframe to an interactive table.\"\n",
              "              style=\"display:none;\">\n",
              "        \n",
              "  <svg xmlns=\"http://www.w3.org/2000/svg\" height=\"24px\"viewBox=\"0 0 24 24\"\n",
              "       width=\"24px\">\n",
              "    <path d=\"M0 0h24v24H0V0z\" fill=\"none\"/>\n",
              "    <path d=\"M18.56 5.44l.94 2.06.94-2.06 2.06-.94-2.06-.94-.94-2.06-.94 2.06-2.06.94zm-11 1L8.5 8.5l.94-2.06 2.06-.94-2.06-.94L8.5 2.5l-.94 2.06-2.06.94zm10 10l.94 2.06.94-2.06 2.06-.94-2.06-.94-.94-2.06-.94 2.06-2.06.94z\"/><path d=\"M17.41 7.96l-1.37-1.37c-.4-.4-.92-.59-1.43-.59-.52 0-1.04.2-1.43.59L10.3 9.45l-7.72 7.72c-.78.78-.78 2.05 0 2.83L4 21.41c.39.39.9.59 1.41.59.51 0 1.02-.2 1.41-.59l7.78-7.78 2.81-2.81c.8-.78.8-2.07 0-2.86zM5.41 20L4 18.59l7.72-7.72 1.47 1.35L5.41 20z\"/>\n",
              "  </svg>\n",
              "      </button>\n",
              "      \n",
              "  <style>\n",
              "    .colab-df-container {\n",
              "      display:flex;\n",
              "      flex-wrap:wrap;\n",
              "      gap: 12px;\n",
              "    }\n",
              "\n",
              "    .colab-df-convert {\n",
              "      background-color: #E8F0FE;\n",
              "      border: none;\n",
              "      border-radius: 50%;\n",
              "      cursor: pointer;\n",
              "      display: none;\n",
              "      fill: #1967D2;\n",
              "      height: 32px;\n",
              "      padding: 0 0 0 0;\n",
              "      width: 32px;\n",
              "    }\n",
              "\n",
              "    .colab-df-convert:hover {\n",
              "      background-color: #E2EBFA;\n",
              "      box-shadow: 0px 1px 2px rgba(60, 64, 67, 0.3), 0px 1px 3px 1px rgba(60, 64, 67, 0.15);\n",
              "      fill: #174EA6;\n",
              "    }\n",
              "\n",
              "    [theme=dark] .colab-df-convert {\n",
              "      background-color: #3B4455;\n",
              "      fill: #D2E3FC;\n",
              "    }\n",
              "\n",
              "    [theme=dark] .colab-df-convert:hover {\n",
              "      background-color: #434B5C;\n",
              "      box-shadow: 0px 1px 3px 1px rgba(0, 0, 0, 0.15);\n",
              "      filter: drop-shadow(0px 1px 2px rgba(0, 0, 0, 0.3));\n",
              "      fill: #FFFFFF;\n",
              "    }\n",
              "  </style>\n",
              "\n",
              "      <script>\n",
              "        const buttonEl =\n",
              "          document.querySelector('#df-53a0156e-6d32-4212-83b2-9773af38f0b9 button.colab-df-convert');\n",
              "        buttonEl.style.display =\n",
              "          google.colab.kernel.accessAllowed ? 'block' : 'none';\n",
              "\n",
              "        async function convertToInteractive(key) {\n",
              "          const element = document.querySelector('#df-53a0156e-6d32-4212-83b2-9773af38f0b9');\n",
              "          const dataTable =\n",
              "            await google.colab.kernel.invokeFunction('convertToInteractive',\n",
              "                                                     [key], {});\n",
              "          if (!dataTable) return;\n",
              "\n",
              "          const docLinkHtml = 'Like what you see? Visit the ' +\n",
              "            '<a target=\"_blank\" href=https://colab.research.google.com/notebooks/data_table.ipynb>data table notebook</a>'\n",
              "            + ' to learn more about interactive tables.';\n",
              "          element.innerHTML = '';\n",
              "          dataTable['output_type'] = 'display_data';\n",
              "          await google.colab.output.renderOutput(dataTable, element);\n",
              "          const docLink = document.createElement('div');\n",
              "          docLink.innerHTML = docLinkHtml;\n",
              "          element.appendChild(docLink);\n",
              "        }\n",
              "      </script>\n",
              "    </div>\n",
              "  </div>\n",
              "  "
            ]
          },
          "metadata": {},
          "execution_count": 72
        }
      ]
    },
    {
      "cell_type": "code",
      "source": [
        "Xnew.shape"
      ],
      "metadata": {
        "colab": {
          "base_uri": "https://localhost:8080/"
        },
        "id": "RtovKBuVOboP",
        "outputId": "611ed802-e609-477e-f089-baf6d511f676"
      },
      "execution_count": null,
      "outputs": [
        {
          "output_type": "execute_result",
          "data": {
            "text/plain": [
              "(7798, 12)"
            ]
          },
          "metadata": {},
          "execution_count": 73
        }
      ]
    },
    {
      "cell_type": "code",
      "source": [
        "Bnew.shape"
      ],
      "metadata": {
        "colab": {
          "base_uri": "https://localhost:8080/"
        },
        "id": "b-X50naROhjh",
        "outputId": "273d9b98-7dcf-48c3-c107-c5605de96d15"
      },
      "execution_count": null,
      "outputs": [
        {
          "output_type": "execute_result",
          "data": {
            "text/plain": [
              "(4277, 12)"
            ]
          },
          "metadata": {},
          "execution_count": 74
        }
      ]
    },
    {
      "cell_type": "code",
      "source": [
        "Bfinal=Bnew[Xnew.columns]"
      ],
      "metadata": {
        "id": "yw41XKhAR9it"
      },
      "execution_count": null,
      "outputs": []
    },
    {
      "cell_type": "markdown",
      "source": [
        "# **Predicting with DTC max_depth = 7**"
      ],
      "metadata": {
        "id": "CxbxQF0rRsE6"
      }
    },
    {
      "cell_type": "code",
      "source": [
        "predicted_mdepth = model_dtc_mdepth.predict(Bfinal)"
      ],
      "metadata": {
        "id": "NrKM7y8YOixQ"
      },
      "execution_count": null,
      "outputs": []
    },
    {
      "cell_type": "code",
      "source": [
        "B1.head(2)"
      ],
      "metadata": {
        "colab": {
          "base_uri": "https://localhost:8080/",
          "height": 112
        },
        "id": "NvSPGTRhSblr",
        "outputId": "dab0e1a5-969e-4c14-f128-471958a4590c"
      },
      "execution_count": null,
      "outputs": [
        {
          "output_type": "execute_result",
          "data": {
            "text/plain": [
              "  PassengerId HomePlanet CryoSleep  Cabin  Destination   Age    VIP  \\\n",
              "0     0013_01      Earth      True  G/3/S  TRAPPIST-1e  27.0  False   \n",
              "1     0018_01      Earth     False  F/4/S  TRAPPIST-1e  19.0  False   \n",
              "\n",
              "   RoomService  FoodCourt  ShoppingMall     Spa  VRDeck             Name  \n",
              "0          0.0        0.0           0.0     0.0     0.0  Nelly Carsoning  \n",
              "1          0.0        9.0           0.0  2823.0     0.0   Lerome Peckers  "
            ],
            "text/html": [
              "\n",
              "  <div id=\"df-f4fac39e-bca4-4fe2-a6b9-1198737c71d6\">\n",
              "    <div class=\"colab-df-container\">\n",
              "      <div>\n",
              "<style scoped>\n",
              "    .dataframe tbody tr th:only-of-type {\n",
              "        vertical-align: middle;\n",
              "    }\n",
              "\n",
              "    .dataframe tbody tr th {\n",
              "        vertical-align: top;\n",
              "    }\n",
              "\n",
              "    .dataframe thead th {\n",
              "        text-align: right;\n",
              "    }\n",
              "</style>\n",
              "<table border=\"1\" class=\"dataframe\">\n",
              "  <thead>\n",
              "    <tr style=\"text-align: right;\">\n",
              "      <th></th>\n",
              "      <th>PassengerId</th>\n",
              "      <th>HomePlanet</th>\n",
              "      <th>CryoSleep</th>\n",
              "      <th>Cabin</th>\n",
              "      <th>Destination</th>\n",
              "      <th>Age</th>\n",
              "      <th>VIP</th>\n",
              "      <th>RoomService</th>\n",
              "      <th>FoodCourt</th>\n",
              "      <th>ShoppingMall</th>\n",
              "      <th>Spa</th>\n",
              "      <th>VRDeck</th>\n",
              "      <th>Name</th>\n",
              "    </tr>\n",
              "  </thead>\n",
              "  <tbody>\n",
              "    <tr>\n",
              "      <th>0</th>\n",
              "      <td>0013_01</td>\n",
              "      <td>Earth</td>\n",
              "      <td>True</td>\n",
              "      <td>G/3/S</td>\n",
              "      <td>TRAPPIST-1e</td>\n",
              "      <td>27.0</td>\n",
              "      <td>False</td>\n",
              "      <td>0.0</td>\n",
              "      <td>0.0</td>\n",
              "      <td>0.0</td>\n",
              "      <td>0.0</td>\n",
              "      <td>0.0</td>\n",
              "      <td>Nelly Carsoning</td>\n",
              "    </tr>\n",
              "    <tr>\n",
              "      <th>1</th>\n",
              "      <td>0018_01</td>\n",
              "      <td>Earth</td>\n",
              "      <td>False</td>\n",
              "      <td>F/4/S</td>\n",
              "      <td>TRAPPIST-1e</td>\n",
              "      <td>19.0</td>\n",
              "      <td>False</td>\n",
              "      <td>0.0</td>\n",
              "      <td>9.0</td>\n",
              "      <td>0.0</td>\n",
              "      <td>2823.0</td>\n",
              "      <td>0.0</td>\n",
              "      <td>Lerome Peckers</td>\n",
              "    </tr>\n",
              "  </tbody>\n",
              "</table>\n",
              "</div>\n",
              "      <button class=\"colab-df-convert\" onclick=\"convertToInteractive('df-f4fac39e-bca4-4fe2-a6b9-1198737c71d6')\"\n",
              "              title=\"Convert this dataframe to an interactive table.\"\n",
              "              style=\"display:none;\">\n",
              "        \n",
              "  <svg xmlns=\"http://www.w3.org/2000/svg\" height=\"24px\"viewBox=\"0 0 24 24\"\n",
              "       width=\"24px\">\n",
              "    <path d=\"M0 0h24v24H0V0z\" fill=\"none\"/>\n",
              "    <path d=\"M18.56 5.44l.94 2.06.94-2.06 2.06-.94-2.06-.94-.94-2.06-.94 2.06-2.06.94zm-11 1L8.5 8.5l.94-2.06 2.06-.94-2.06-.94L8.5 2.5l-.94 2.06-2.06.94zm10 10l.94 2.06.94-2.06 2.06-.94-2.06-.94-.94-2.06-.94 2.06-2.06.94z\"/><path d=\"M17.41 7.96l-1.37-1.37c-.4-.4-.92-.59-1.43-.59-.52 0-1.04.2-1.43.59L10.3 9.45l-7.72 7.72c-.78.78-.78 2.05 0 2.83L4 21.41c.39.39.9.59 1.41.59.51 0 1.02-.2 1.41-.59l7.78-7.78 2.81-2.81c.8-.78.8-2.07 0-2.86zM5.41 20L4 18.59l7.72-7.72 1.47 1.35L5.41 20z\"/>\n",
              "  </svg>\n",
              "      </button>\n",
              "      \n",
              "  <style>\n",
              "    .colab-df-container {\n",
              "      display:flex;\n",
              "      flex-wrap:wrap;\n",
              "      gap: 12px;\n",
              "    }\n",
              "\n",
              "    .colab-df-convert {\n",
              "      background-color: #E8F0FE;\n",
              "      border: none;\n",
              "      border-radius: 50%;\n",
              "      cursor: pointer;\n",
              "      display: none;\n",
              "      fill: #1967D2;\n",
              "      height: 32px;\n",
              "      padding: 0 0 0 0;\n",
              "      width: 32px;\n",
              "    }\n",
              "\n",
              "    .colab-df-convert:hover {\n",
              "      background-color: #E2EBFA;\n",
              "      box-shadow: 0px 1px 2px rgba(60, 64, 67, 0.3), 0px 1px 3px 1px rgba(60, 64, 67, 0.15);\n",
              "      fill: #174EA6;\n",
              "    }\n",
              "\n",
              "    [theme=dark] .colab-df-convert {\n",
              "      background-color: #3B4455;\n",
              "      fill: #D2E3FC;\n",
              "    }\n",
              "\n",
              "    [theme=dark] .colab-df-convert:hover {\n",
              "      background-color: #434B5C;\n",
              "      box-shadow: 0px 1px 3px 1px rgba(0, 0, 0, 0.15);\n",
              "      filter: drop-shadow(0px 1px 2px rgba(0, 0, 0, 0.3));\n",
              "      fill: #FFFFFF;\n",
              "    }\n",
              "  </style>\n",
              "\n",
              "      <script>\n",
              "        const buttonEl =\n",
              "          document.querySelector('#df-f4fac39e-bca4-4fe2-a6b9-1198737c71d6 button.colab-df-convert');\n",
              "        buttonEl.style.display =\n",
              "          google.colab.kernel.accessAllowed ? 'block' : 'none';\n",
              "\n",
              "        async function convertToInteractive(key) {\n",
              "          const element = document.querySelector('#df-f4fac39e-bca4-4fe2-a6b9-1198737c71d6');\n",
              "          const dataTable =\n",
              "            await google.colab.kernel.invokeFunction('convertToInteractive',\n",
              "                                                     [key], {});\n",
              "          if (!dataTable) return;\n",
              "\n",
              "          const docLinkHtml = 'Like what you see? Visit the ' +\n",
              "            '<a target=\"_blank\" href=https://colab.research.google.com/notebooks/data_table.ipynb>data table notebook</a>'\n",
              "            + ' to learn more about interactive tables.';\n",
              "          element.innerHTML = '';\n",
              "          dataTable['output_type'] = 'display_data';\n",
              "          await google.colab.output.renderOutput(dataTable, element);\n",
              "          const docLink = document.createElement('div');\n",
              "          docLink.innerHTML = docLinkHtml;\n",
              "          element.appendChild(docLink);\n",
              "        }\n",
              "      </script>\n",
              "    </div>\n",
              "  </div>\n",
              "  "
            ]
          },
          "metadata": {},
          "execution_count": 77
        }
      ]
    },
    {
      "cell_type": "markdown",
      "source": [
        "# **Predicting with RFC**"
      ],
      "metadata": {
        "id": "W6pa87r7T-sT"
      }
    },
    {
      "cell_type": "code",
      "source": [
        "from sklearn.ensemble import RandomForestClassifier\n",
        "rfc=RandomForestClassifier(criterion=\"gini\",random_state=31,min_samples_split=16,n_estimators=17)\n",
        "model_rfc=rfc.fit(Xnew,Y)\n",
        "\n",
        "predicted_rfc=model_rfc.predict(Bfinal)"
      ],
      "metadata": {
        "id": "Qgp9dFxKT7Li"
      },
      "execution_count": null,
      "outputs": []
    },
    {
      "cell_type": "code",
      "source": [
        "T2=B1[[\"PassengerId\"]]\n"
      ],
      "metadata": {
        "id": "PhQDh8RJUIvP"
      },
      "execution_count": null,
      "outputs": []
    },
    {
      "cell_type": "code",
      "source": [
        "T2[\"Transported\"]=predicted_rfc"
      ],
      "metadata": {
        "id": "uUVLsH0tU-hi"
      },
      "execution_count": null,
      "outputs": []
    },
    {
      "cell_type": "code",
      "source": [
        "T2[\"Transported\"].replace([1.0,0.0],[\"True\",\"False\"],inplace=True)"
      ],
      "metadata": {
        "id": "YrNCI_AmVD63"
      },
      "execution_count": null,
      "outputs": []
    },
    {
      "cell_type": "code",
      "source": [
        "T2.set_index(\"PassengerId\",inplace=True)"
      ],
      "metadata": {
        "id": "2i-jIvSSVElE"
      },
      "execution_count": null,
      "outputs": []
    },
    {
      "cell_type": "code",
      "source": [
        "T2"
      ],
      "metadata": {
        "id": "K9FWFMzaVR9_"
      },
      "execution_count": null,
      "outputs": []
    },
    {
      "cell_type": "code",
      "source": [
        ""
      ],
      "metadata": {
        "id": "LyqEdIpRVU3H"
      },
      "execution_count": null,
      "outputs": []
    }
  ]
}